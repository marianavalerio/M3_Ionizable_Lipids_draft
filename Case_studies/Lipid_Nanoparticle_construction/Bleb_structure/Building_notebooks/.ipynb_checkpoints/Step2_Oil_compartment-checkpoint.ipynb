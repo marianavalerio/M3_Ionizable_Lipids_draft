{
 "cells": [
  {
   "cell_type": "code",
   "execution_count": null,
   "metadata": {},
   "outputs": [],
   "source": [
    "import numpy as np\n",
    "import os\n",
    "import subprocess \n",
    "import MDAnalysis as md\n",
    "from MDAnalysis.analysis.leaflet import LeafletFinder\n",
    "import re"
   ]
  },
  {
   "cell_type": "markdown",
   "metadata": {},
   "source": [
    "# Notebook for constructing oil compartment"
   ]
  },
  {
   "cell_type": "markdown",
   "metadata": {},
   "source": [
    "## Requirements\n",
    "### - Define Paths bellow;"
   ]
  },
  {
   "cell_type": "code",
   "execution_count": null,
   "metadata": {},
   "outputs": [],
   "source": [
    "IL_name_NP = 'MC3H'\n",
    "IL_name_N1 = 'MC3'\n",
    "sterol_name = 'CHOL'\n",
    "vesicle_radius = 25 # nm\n",
    "no_N1_lipids = 14000 # number of ILs - can be adapted\n",
    "no_CHOL_lipids = 7000 # number of Cholesterols - can be adapted"
   ]
  },
  {
   "cell_type": "code",
   "execution_count": null,
   "metadata": {},
   "outputs": [],
   "source": [
    "main_dir = '.'\n",
    "mdp_loc_BL = 'MDPs/'\n",
    "ILs_itp = 'ITP/MC3_KC2_DP_DT/_LI5_LI2_LI10_BMHB.itp'\n",
    "\n",
    "PCG_path = '' #Define path to PCG/TS2CG instalation\n",
    "\n",
    "RNA = 'PDBs/ssDNA.gro'\n",
    "RNA_itp = 'ITP/ssDNA.itp'\n",
    "\n",
    "    \n",
    "itpDir   = \"ITP/\"\n",
    "IL_itp   = 'ITP/MC3_KC2_DP_DT_LI5_LI2_LI10_BMHB.itp'\n",
    "Sterols  = \"ITP/martini_v3.0_sterols_v1.0.itp\"    \n",
    "ffbonded = \"ITP/martini_v3.0_ffbonded.itp\""
   ]
  },
  {
   "cell_type": "markdown",
   "metadata": {},
   "source": [
    "####  functions"
   ]
  },
  {
   "cell_type": "code",
   "execution_count": null,
   "metadata": {},
   "outputs": [],
   "source": [
    "def get_radius (x,y,z):\n",
    "    # Calculate the centroid of the cylinder (center axis)\n",
    "    centroid_x = np.mean(x)\n",
    "    centroid_y = np.mean(y)\n",
    "    centroid_z = np.mean(z)\n",
    "\n",
    "    # Calculate the distances from the centroid to each point\n",
    "    distances = np.sqrt((x - centroid_x)**2 + (y - centroid_y)**2 + (z - centroid_z)**2)\n",
    "\n",
    "    # Find the minimum distance, which represents the internal radius of the cylinder\n",
    "    internal_radius = np.min(distances)\n",
    "\n",
    "    return internal_radius\n",
    "\n",
    "def write_packmol_input(channel_radius, noW=1, noCL=1):\n",
    "    f = open('solvate_channel.inp', 'w') \n",
    "    f.write(f'tolerance 3.0\\nfiletype pdb\\n\\n')\n",
    "\n",
    "    f.write(f'structure PDBs/MC3.pdb\\n')\n",
    "    f.write(f'  number {no_N1_lipids}\\n') \n",
    "    f.write(f'  inside sphere 0. 0. 0. {int(channel_radius)}.\\n')\n",
    "    f.write(f'end structure\\n')\n",
    "\n",
    "    f.write(f'structure PDBs/CHOL.pdb\\n')\n",
    "    f.write(f'  number {no_CHOL_lipids}\\n') \n",
    "    f.write(f'  inside sphere 0. 0. 0. {int(channel_radius)}.\\n')\n",
    "    f.write(f'end structure\\n')\n",
    "            \n",
    "    f.write('output solvate_channel_rna2.pdb\\n')\n",
    "    f.close()\n",
    "    return\n",
    "\n",
    "def extract_lines(input_file, pattern):\n",
    "    extracted_lines = []\n",
    "    pattern_found = False\n",
    "\n",
    "    with open(input_file, 'r') as f:\n",
    "        for line in f:\n",
    "            if pattern_found:\n",
    "                extracted_lines.append(line)\n",
    "\n",
    "            if pattern in line:\n",
    "                pattern_found = True\n",
    "\n",
    "    return extracted_lines\n",
    "\n",
    "def write_topol (topol, noW, noCL):\n",
    "    '''Writes out a topol.top file with the solvate channel times 4 including the correct itp files'''\n",
    "    extracted_lines = extract_lines(topol, 'lower monolayer')\n",
    "\n",
    "\n",
    "    with open('topol2.top', 'w') as topout:\n",
    "        topout.write(f'#include \"{itpDir}/martini_v3.0.0.itp\"\\n#include \"{ffbonded}\"\\n#include \"{RNA_itp}\"\\n\\\n",
    "#include \"{itpDir}/martini_v3.0.0_phospholipids_v1.itp\"\\\n",
    "\\n#include \"{IL_itp}\"\\n#include \"{Sterols}\"\\n#include \"{itpDir}/martini_v3.0.0_solvents_v1.itp\"\\n\\\n",
    "#include \"{itpDir}/martini_v3.0.0_ions_v1.itp\"\\n')\n",
    "        topout.write(f'[ system ]\\n')\n",
    "        topout.write('Compartment_Oil\\n')\n",
    "        topout.write(f'\\n')\n",
    "        topout.write(f'[ molecules ]\\n')\n",
    "        for i in range(1):\n",
    "                topout.write(f'MC3    {no_N1_lipids}\\n')\n",
    "                topout.write(f'CHOL    {no_CHOL_lipids}\\n')\n",
    "\n",
    "    return"
   ]
  },
  {
   "cell_type": "markdown",
   "metadata": {},
   "source": [
    "## Importat note: Please do not proceed if you are not familiar with Packmol."
   ]
  },
  {
   "cell_type": "markdown",
   "metadata": {},
   "source": [
    "### You can learn more about Packmol here: https://m3g.github.io/packmol/userguide.shtml#tutorials"
   ]
  },
  {
   "cell_type": "markdown",
   "metadata": {},
   "source": [
    "#### Note that you may need to tune tolerances, adjust lipid ratios, and make other parameter modifications"
   ]
  },
  {
   "cell_type": "markdown",
   "metadata": {},
   "source": [
    "## **_Step 1_**: Create oil compartment"
   ]
  },
  {
   "cell_type": "code",
   "execution_count": null,
   "metadata": {},
   "outputs": [],
   "source": [
    "write_packmol_input((vesicle_radius*100)-5, noW=0, noCL=0)"
   ]
  },
  {
   "cell_type": "markdown",
   "metadata": {},
   "source": [
    "##### Run packmol"
   ]
  },
  {
   "cell_type": "code",
   "execution_count": null,
   "metadata": {
    "scrolled": true
   },
   "outputs": [],
   "source": [
    "!/projects/DAMM/packmol-20.14.3/packmol < solvate_channel.inp"
   ]
  },
  {
   "cell_type": "markdown",
   "metadata": {},
   "source": [
    "##### Create box"
   ]
  },
  {
   "cell_type": "code",
   "execution_count": null,
   "metadata": {
    "scrolled": true
   },
   "outputs": [],
   "source": [
    "os.system('gmx editconf -f solvate_channel_rna2.pdb -o channel_solvated_combined2.gro -box 70 70 70') "
   ]
  },
  {
   "cell_type": "markdown",
   "metadata": {},
   "source": [
    "##### Write topol.top"
   ]
  },
  {
   "cell_type": "code",
   "execution_count": null,
   "metadata": {},
   "outputs": [],
   "source": [
    "write_topol('system2.top', noW=0, noCL=0)"
   ]
  },
  {
   "cell_type": "markdown",
   "metadata": {},
   "source": [
    "## Important note: Please do not proceed if you are not familiar with GROMACS."
   ]
  },
  {
   "cell_type": "markdown",
   "metadata": {},
   "source": [
    "### You can learn more about GROMACS here: http://www.mdtutorials.com/gmx/"
   ]
  },
  {
   "cell_type": "markdown",
   "metadata": {},
   "source": [
    "#### Note that you may need to tune some .mdp parameters based on the GROMACS version being used."
   ]
  },
  {
   "cell_type": "markdown",
   "metadata": {},
   "source": [
    "### **_Step 2_**: Min and relax"
   ]
  },
  {
   "cell_type": "code",
   "execution_count": null,
   "metadata": {
    "scrolled": true
   },
   "outputs": [],
   "source": [
    "os.system(f\"gmx grompp -f {mdp_loc_BL}/min.mdp -c channel_solvated_combined2.gro -p topol2.top -o m2.tpr -maxwarn 1\")"
   ]
  },
  {
   "cell_type": "code",
   "execution_count": null,
   "metadata": {
    "scrolled": true
   },
   "outputs": [],
   "source": [
    "os.system(f\"gmx mdrun -v -deffnm m2 -ntomp 5 -ntmpi 2\")"
   ]
  },
  {
   "cell_type": "code",
   "execution_count": null,
   "metadata": {},
   "outputs": [],
   "source": [
    "### Create the index file\n",
    "gro = 'm2.gro'\n",
    "u = md.Universe(gro)\n",
    "lipidsagg=u.select_atoms(f'resname {sterol_name} {IL_name_N1} {IL_name_NP} MC3H LI2H SITO CHOL A')\n",
    "lipidsagg.write(\"index2.ndx\", mode=\"w\", name= 'Particle')\n",
    "u.atoms.write(\"index2.ndx\", mode=\"a\", name= 'System')\n"
   ]
  }
 ],
 "metadata": {
  "kernelspec": {
   "display_name": "Python 3 (ipykernel)",
   "language": "python",
   "name": "python3"
  },
  "language_info": {
   "codemirror_mode": {
    "name": "ipython",
    "version": 3
   },
   "file_extension": ".py",
   "mimetype": "text/x-python",
   "name": "python",
   "nbconvert_exporter": "python",
   "pygments_lexer": "ipython3",
   "version": "3.11.2"
  }
 },
 "nbformat": 4,
 "nbformat_minor": 4
}
