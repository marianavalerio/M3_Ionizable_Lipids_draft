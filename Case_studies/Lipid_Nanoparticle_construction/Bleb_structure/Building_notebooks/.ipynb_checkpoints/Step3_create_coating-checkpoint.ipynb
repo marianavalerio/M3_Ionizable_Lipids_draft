{
 "cells": [
  {
   "cell_type": "code",
   "execution_count": null,
   "id": "82e528c6",
   "metadata": {},
   "outputs": [],
   "source": [
    "import MDAnalysis as md\n",
    "import numpy as np\n",
    "import re\n",
    "from vermouth.forcefield import ForceField\n",
    "from vermouth.gmx.itp_read import read_itp\n",
    "import networkx as nx\n",
    "import os\n",
    "import subprocess\n",
    "from itertools import groupby\n",
    "\n",
    "import warnings\n",
    "warnings.filterwarnings('ignore')"
   ]
  },
  {
   "cell_type": "code",
   "execution_count": null,
   "id": "132e5c07-3a84-4d21-be5b-035565b23b2c",
   "metadata": {},
   "outputs": [],
   "source": [
    "PCG_path = ''  #Define path to PCG/TS2CG instalation\n",
    "PLM_path = ''  #Define path to PLM/TS2CG instalation\n",
    "IL_name = 'MC3H'\n",
    "sterol_name = 'CHOL'\n",
    "vesicle_radius = 25 # nm\n",
    "\n",
    "build_file = open('input.str' , 'w')\n",
    "build_file.write(f'[Lipids List]\\n')\n",
    "build_file.write(f'Domain 0\\n')\n",
    "build_file.write(f'{IL_name}  0.25  0.25 0.45\\n')\n",
    "build_file.write(f'DSPC  0.1  0.1 0.45\\n')\n",
    "build_file.write(f'{sterol_name}  0.25  0.25 0.45\\n')\n",
    "build_file.write(f'End\\n')\n",
    "build_file.close()"
   ]
  },
  {
   "cell_type": "code",
   "execution_count": null,
   "id": "b3417e7f-88c8-4b78-8cdd-ec41f379412a",
   "metadata": {},
   "outputs": [],
   "source": [
    "def itp_to_forcefield(itp):\n",
    "    \"\"\"\n",
    "    Returns a forcefield with all the molecule in the itp added.\n",
    "\n",
    "    The itp should specify the path to the ITP file.\n",
    "    \"\"\"\n",
    "    path = itp\n",
    "    with open(path, 'r') as f:\n",
    "        lines = f.readlines()\n",
    "    forcefield = ForceField(name='custom')\n",
    "    read_itp(lines, forcefield)\n",
    "    return forcefield\n",
    "    \n",
    "def get_radius (x,y,z):\n",
    "    # Calculate the centroid of the cylinder (center axis)\n",
    "    centroid_x = np.mean(x)\n",
    "    centroid_y = np.mean(y)\n",
    "    centroid_z = np.mean(z)\n",
    "\n",
    "    # Calculate the distances from the centroid to each point\n",
    "    distances = np.sqrt((x - centroid_x)**2 + (y - centroid_y)**2 + (z - centroid_z)**2)\n",
    "\n",
    "    # Find the minimum distance, which represents the internal radius of the cylinder\n",
    "    internal_radius = np.min(distances)\n",
    "\n",
    "    return internal_radius"
   ]
  },
  {
   "cell_type": "markdown",
   "id": "80cead31-e3a1-4786-a363-b9bd068ee0e5",
   "metadata": {},
   "source": [
    "## Important note: Please do not proceed if you are not familiar with MDAnalysis."
   ]
  },
  {
   "cell_type": "markdown",
   "id": "698926b4-72b5-4904-bc9a-27d1251f7de5",
   "metadata": {},
   "source": [
    "### You can learn more about MDAnalysis here: https://www.mdanalysis.org/"
   ]
  },
  {
   "cell_type": "markdown",
   "id": "3096351c-a245-476a-96a9-b62f923a0f51",
   "metadata": {},
   "source": [
    "### **_Step 1_**: Join both compartments"
   ]
  },
  {
   "cell_type": "code",
   "execution_count": null,
   "id": "52f12a8e-bd17-44c5-884d-12cfce135015",
   "metadata": {},
   "outputs": [],
   "source": [
    "rna_comp = md.Universe('m.gro') #(RNA_comp)\n",
    "rna_comp.atoms.positions = rna_comp.atoms.positions - rna_comp.atoms.center_of_mass()\n",
    "#radius of RNA sphere, trying to add 40 angstorm to accont for the double bilayer\n",
    "sel = rna_comp.select_atoms('name N1 NP ROH')\n",
    "R = get_radius(sel.positions[:,0], sel.positions[:,1], sel.positions[:,2]) + 55 ## Take into account the monolayer"
   ]
  },
  {
   "cell_type": "code",
   "execution_count": null,
   "id": "78cfe998-6000-4cde-8a4c-5ad215fde081",
   "metadata": {},
   "outputs": [],
   "source": [
    "oil_comp = md.Universe('m2.gro') #(oil_comp)\n",
    "oil_comp.atoms.positions = (oil_comp.atoms.positions - oil_comp.atoms.center_of_mass()) + R"
   ]
  },
  {
   "cell_type": "code",
   "execution_count": null,
   "id": "a6e4a59f-0eda-4248-8b2d-5114f6092b2e",
   "metadata": {},
   "outputs": [],
   "source": [
    "sys = md.Merge(rna_comp.select_atoms('all'), oil_comp.select_atoms('all'))\n",
    "sys.atoms.write('Core.pdb')"
   ]
  },
  {
   "cell_type": "code",
   "execution_count": null,
   "id": "a743045c",
   "metadata": {
    "scrolled": true
   },
   "outputs": [],
   "source": [
    "# Import the itps which are sub dependencies\n",
    "ff_rna = itp_to_forcefield('ITP/1000_RNA.itp')\n",
    "ff_lipids = itp_to_forcefield('ITP/martini_v3.0.0_phospholipids_v1.itp')\n",
    "ff_lisbeth = itp_to_forcefield('ITP/MC3_KC2_DP_DT_LI5_LI2_LI10_BMHB.itp')\n",
    "ff_sterols = itp_to_forcefield('ITP/martini_v3.0_sterols_v1.0.itp')\n",
    "ff_solvents = itp_to_forcefield('ITP/martini_v3.0.0_solvents_v1_BMHB.itp')\n",
    "ff_ions = itp_to_forcefield('ITP/martini_v3.0.0_ions_v1.itp')\n",
    "# Combine all the blocks in one big dictionary (a block is a molecule in our case)\n",
    "all_blocks = {}\n",
    "for forcefield in [ff_rna, ff_lipids, ff_lisbeth, ff_sterols, ff_solvents, ff_ions]:\n",
    "    for name, block in forcefield.blocks.items():\n",
    "        if name in all_blocks.keys():\n",
    "            print(f'A double definition was found for {name}, this often results in issues!')\n",
    "        all_blocks[name] = block\n",
    "#all_blocks['RNA'].nodes(data=True)"
   ]
  },
  {
   "cell_type": "code",
   "execution_count": null,
   "id": "bbe2a8ca",
   "metadata": {},
   "outputs": [],
   "source": [
    "molecule_identifiers = {}\n",
    "for molecule in all_blocks.keys():\n",
    "    molecule_identifiers[molecule] = []\n",
    "    for key, values in all_blocks[molecule].nodes(data=True):\n",
    "        molecule_identifiers[molecule].append((values['resname'], values['atomname']))\n",
    "#molecule_identifiers"
   ]
  },
  {
   "cell_type": "code",
   "execution_count": null,
   "id": "88e1cc25",
   "metadata": {},
   "outputs": [],
   "source": [
    "# Read in the GRO file\n",
    "universe = md.Universe('Core.pdb')\n",
    "os.system('gmx editconf -f Core.pdb -d 5 -c -o Core.pdb')"
   ]
  },
  {
   "cell_type": "code",
   "execution_count": null,
   "id": "1bd3f04b",
   "metadata": {},
   "outputs": [],
   "source": [
    "# Start matching the resnames\n",
    "# This is not a very generic approach, but it can be expanded. The issue\n",
    "#  is that there is no true solution to this problem. For certain molecules\n",
    "#  might be subgroups of other molecules, meaning it is to a certain degree\n",
    "#  an ambigous problem. Here we map small segments over long segments for \n",
    "#  simplicity, this might or might not be a problem for you system.\n",
    "#  This can largely be circumvented by making sure that all resnames are\n",
    "#  unique for every molecule type.\n",
    "matches = []\n",
    "active_molecule = []\n",
    "in_RNA = False\n",
    "for residue in universe.residues:\n",
    "    # Matching by residue name if the molecule\n",
    "    #  is a residue.\n",
    "    if residue.resname in all_blocks.keys():\n",
    "        in_RNA = False\n",
    "        matches.append(residue.resname)\n",
    "    # The naming of IONS is weird as they are separated\n",
    "    #  molecules which have the same resname\n",
    "    elif residue.resname == 'ION':\n",
    "        in_RNA = False\n",
    "        matches.append(residue.atoms.names[0])\n",
    "    # The RNA or any polymer is an issue for\n",
    "    #  their residues are not molecules. Here\n",
    "    #  I wrote a basic detection for RNA. But\n",
    "    #  this might need to be changed for other\n",
    "    #  polymers. I only match by length, this\n",
    "    #  might be lazy but for now I think it \n",
    "    #  will work.\n",
    "    elif residue.resname in ['RA', 'RA3', 'RA5', 'RG']:\n",
    "        if in_RNA == False:\n",
    "            in_RNA = len(residue.atoms)\n",
    "        else:\n",
    "            in_RNA += len(residue.atoms)\n",
    "        if in_RNA == len(molecule_identifiers['RNA']):\n",
    "            in_RNA = False\n",
    "            matches.append('RNA')\n",
    "    else:\n",
    "        in_RNA = False\n",
    "        print(f'UNKNOWN RESIDUE {residue.resname}')\n",
    "        break"
   ]
  },
  {
   "cell_type": "code",
   "execution_count": null,
   "id": "9a3e2a1a",
   "metadata": {},
   "outputs": [],
   "source": [
    "successive_elements = []\n",
    "previous_match = None\n",
    "counter = None\n",
    "for match in matches:\n",
    "    if match == previous_match:\n",
    "        counter += 1\n",
    "    else:\n",
    "        if previous_match is not None:\n",
    "            successive_elements.append((previous_match, counter))\n",
    "        counter = 1\n",
    "        previous_match = match\n",
    "successive_elements.append((match, counter))"
   ]
  },
  {
   "cell_type": "code",
   "execution_count": null,
   "id": "a79b9066",
   "metadata": {},
   "outputs": [],
   "source": [
    "# Quick sanity check to see if the amount of atoms\n",
    "#  based on the segment counting is indeed the equal\n",
    "#  to the total amount of atoms in the PDB/GRO.\n",
    "amount_of_atoms = 0\n",
    "for element in successive_elements:\n",
    "    amount_of_atoms += len(molecule_identifiers[element[0]])*element[1]\n",
    "all_fine = amount_of_atoms == len(universe.atoms)\n",
    "print(f'The amount of atoms based on the segments in correct: {all_fine}')"
   ]
  },
  {
   "cell_type": "code",
   "execution_count": null,
   "id": "6072de40",
   "metadata": {},
   "outputs": [],
   "source": [
    "# Writing the mol_counting file which can be copied or imported in the top.\n",
    "if all_fine:\n",
    "    with open('Core_mol_counting.top', 'w') as f:\n",
    "        for successive_element in successive_elements:\n",
    "            f.write(f'{successive_element[0]}\\t{successive_element[1]}\\n')\n",
    "    print('The mol_counting.top as been written succesfully.')\n",
    "else:\n",
    "    'No ouput has been generated as the amount of atoms does not match.'"
   ]
  },
  {
   "cell_type": "code",
   "execution_count": null,
   "id": "d3672146",
   "metadata": {},
   "outputs": [],
   "source": [
    "topol = open('Core.top', 'w')\n",
    "            \n",
    "topol.write(f'#include \"ITP/martini_v3.0.0.itp\"\\n')\n",
    "topol.write(f'#include \"ITP/martini_v3.0_ffbonded.itp\"\\n')\n",
    "topol.write(f'#include \"ITP/1000_RNA.itp\"\\n')\n",
    "topol.write(f'#include \"ITP/martini_v3.0.0_phospholipids_v1.itp\"\\n')\n",
    "topol.write(f'#include \"ITP/MC3_KC2_DP_DT_LI5_LI2_LI10_BMHB.itp\"\\n')\n",
    "topol.write(f'#include \"ITP/martini_v3.0_sterols_v1.0.itp\"\\n')\n",
    "topol.write(f'#include \"ITP/martini_v3.0.0_solvents_v1.itp\"\\n')\n",
    "topol.write(f'#include \"ITP/martini_v3.0.0_ions_v1.itp\"\\n')\n",
    "topol.write(f'[ system ]\\n')\n",
    "topol.write(f'LNP\\n')\n",
    "topol.write(f'\\n')\n",
    "topol.write(f'[ molecules ]\\n')\n",
    "topol.write(f'#include \"Core_mol_counting.top\"\\n')\n",
    "topol.close()"
   ]
  },
  {
   "cell_type": "code",
   "execution_count": null,
   "id": "3ddae768",
   "metadata": {
    "scrolled": true
   },
   "outputs": [],
   "source": [
    "os.system('touch empty.mdp')\n",
    "os.system('gmx grompp -f empty.mdp -c Core.pdb -p Core.top -o Core_fake.tpr')\n",
    "\n",
    "p = subprocess.Popen('gmx trjconv -f Core.pdb -pbc whole -s Core_fake.tpr -o Core_fake_whole.pdb -conect'\n",
    "                    , stdin=subprocess.PIPE, shell=True, universal_newlines=True)\n",
    "p.communicate('0\\n')\n",
    "p.wait()"
   ]
  },
  {
   "cell_type": "markdown",
   "id": "50672649-091b-4276-ae81-b2c12cc3c948",
   "metadata": {},
   "source": [
    "### **_Step 2_**: Minimize in vacuum (only if necessary!)"
   ]
  },
  {
   "cell_type": "code",
   "execution_count": null,
   "id": "561c4278-932f-44df-b096-85571a718cb0",
   "metadata": {
    "scrolled": true
   },
   "outputs": [],
   "source": [
    "os.system('gmx grompp -f MDPs/min_vac.mdp -c Core_fake_whole.pdb -p Core.top -o Core_fake_whole.tpr')"
   ]
  },
  {
   "cell_type": "code",
   "execution_count": null,
   "id": "4732e37b-4a28-47f9-b328-aedf0a4214a3",
   "metadata": {
    "scrolled": true
   },
   "outputs": [],
   "source": [
    "os.system('gmx mdrun -deffnm Core_fake_whole_cubic -v -nt 10')"
   ]
  },
  {
   "cell_type": "markdown",
   "id": "31393332-a8a4-4205-888c-ca7a3c58dbc7",
   "metadata": {},
   "source": [
    "## Important note: Please do not proceed if you are not familiar with Blender."
   ]
  },
  {
   "cell_type": "markdown",
   "id": "81303a26-b4fe-4fb1-b117-343ca9b36abe",
   "metadata": {},
   "source": [
    "### You can learn more about Blender here: https://docs.blender.org/api/current/info_quickstart.html"
   ]
  },
  {
   "cell_type": "markdown",
   "id": "77461f8d-6505-4131-ba6c-3e45cfd73a74",
   "metadata": {},
   "source": [
    "### **_Step 3_**: Get Blender mesh"
   ]
  },
  {
   "cell_type": "code",
   "execution_count": null,
   "id": "fb3c897f-75fc-4a20-9892-572b0eb87ea5",
   "metadata": {},
   "outputs": [],
   "source": [
    "os.system('vmd -dispdev text -e tcl_script/render_stl.tcl -args Core.pdb test.stl')"
   ]
  },
  {
   "cell_type": "code",
   "execution_count": null,
   "id": "1125436b-dd43-4139-a01c-ea2fb3b8770d",
   "metadata": {},
   "outputs": [],
   "source": [
    "os.system('/projects/DAMM/blender-4.0.2-linux-x64/blender --background --python remesh.py')"
   ]
  },
  {
   "cell_type": "markdown",
   "id": "6bf83a55-dc1b-4c53-bb53-3a26dbf67ccc",
   "metadata": {},
   "source": [
    "## Important note: Please do not proceed if you are not familiar with TS2CG."
   ]
  },
  {
   "cell_type": "markdown",
   "id": "e1e07ba0-1e73-4d95-9615-72b14d40f529",
   "metadata": {},
   "source": [
    "### You can learn more about TS2CG here: https://cgmartini.nl/docs/tutorials/Martini3/TS2CG/"
   ]
  },
  {
   "cell_type": "markdown",
   "id": "e8d2d31c-c963-4952-a870-6bbb1116c5c0",
   "metadata": {},
   "source": [
    "#### Note that you may need to tune the \"rescalefactor\" parameter and \"c.atoms.positions\""
   ]
  },
  {
   "cell_type": "markdown",
   "id": "62b64962-4151-4ebf-9398-b08a1e5592cf",
   "metadata": {},
   "source": [
    "### **_Step 4_**: Make a monolayer to cover the bleb"
   ]
  },
  {
   "cell_type": "code",
   "execution_count": null,
   "id": "1571956b-2a7e-4cec-a83e-c894492c0516",
   "metadata": {},
   "outputs": [],
   "source": [
    "#mono 2\n",
    "os.system(f\"{PLM_path} -TSfile out_test.tsi -rescalefactor {vesicle_radius} {vesicle_radius} {vesicle_radius} -smooth -monolayer 1 -o mono_layer2\")\n",
    "os.system(f\"{PCG_path} -str input.str -LLIB Martini3.LIB -defout mono2 -dts mono_layer2\")"
   ]
  },
  {
   "cell_type": "code",
   "execution_count": null,
   "id": "82650198-bd2c-4937-9b6a-a97c154f123e",
   "metadata": {},
   "outputs": [],
   "source": [
    "m2 = md.Universe('mono2.gro')\n",
    "c = md.Universe('Core.pdb')\n",
    "univers = [m2, c]"
   ]
  },
  {
   "cell_type": "code",
   "execution_count": null,
   "id": "763a3777-2d4c-4fdb-8114-5f47ba0093f8",
   "metadata": {},
   "outputs": [],
   "source": [
    "for u in univers:\n",
    "u.atoms.positions = u.atoms.positions - u.atoms.center_of_geometry()"
   ]
  },
  {
   "cell_type": "code",
   "execution_count": null,
   "id": "c06a04e2-bb3c-45e9-84ae-7276fa35f914",
   "metadata": {},
   "outputs": [],
   "source": [
    "c.atoms.positions = c.atoms.positions + (vesicle_radius+7)\n",
    "combined = md.Merge(m2.atoms, c.atoms)"
   ]
  },
  {
   "cell_type": "code",
   "execution_count": null,
   "id": "fe448aa5-bd5c-4a7f-a8c1-7af089ede07e",
   "metadata": {},
   "outputs": [],
   "source": [
    "combined.atoms.write('coated_test.pdb')"
   ]
  },
  {
   "cell_type": "code",
   "execution_count": null,
   "id": "21109568-5c31-4e49-a5db-1650a0f3ed6d",
   "metadata": {},
   "outputs": [],
   "source": [
    "R"
   ]
  }
 ],
 "metadata": {
  "kernelspec": {
   "display_name": "Python 3 (ipykernel)",
   "language": "python",
   "name": "python3"
  },
  "language_info": {
   "codemirror_mode": {
    "name": "ipython",
    "version": 3
   },
   "file_extension": ".py",
   "mimetype": "text/x-python",
   "name": "python",
   "nbconvert_exporter": "python",
   "pygments_lexer": "ipython3",
   "version": "3.11.2"
  }
 },
 "nbformat": 4,
 "nbformat_minor": 5
}
