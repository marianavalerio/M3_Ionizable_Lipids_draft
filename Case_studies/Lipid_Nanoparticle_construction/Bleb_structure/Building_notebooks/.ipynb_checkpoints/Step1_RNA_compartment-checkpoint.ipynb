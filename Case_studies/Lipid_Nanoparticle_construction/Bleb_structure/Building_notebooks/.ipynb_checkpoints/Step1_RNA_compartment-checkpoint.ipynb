{
 "cells": [
  {
   "cell_type": "code",
   "execution_count": null,
   "metadata": {},
   "outputs": [],
   "source": [
    "import numpy as np\n",
    "import os\n",
    "import subprocess \n",
    "import MDAnalysis as md\n",
    "from MDAnalysis.analysis.leaflet import LeafletFinder\n",
    "import re"
   ]
  },
  {
   "cell_type": "markdown",
   "metadata": {},
   "source": [
    "# Notebook for constructing a Bleb LNP with 1000nt Poly A RNA"
   ]
  },
  {
   "cell_type": "markdown",
   "metadata": {},
   "source": [
    "## Requirements\n",
    "### - Define Paths bellow;\n",
    "### - Install MDAnalysis, Packmol, TS2CG, mdvcontainment, freud and mdvwhole."
   ]
  },
  {
   "cell_type": "code",
   "execution_count": null,
   "metadata": {},
   "outputs": [],
   "source": [
    "IL_name_NP = 'MC3H'\n",
    "IL_name_N1 = 'MC3'\n",
    "sterol_name = 'CHOL'\n",
    "noRNA = 1\n",
    "vesicle_radius = 24 # nm"
   ]
  },
  {
   "cell_type": "code",
   "execution_count": null,
   "metadata": {},
   "outputs": [],
   "source": [
    "main_dir = '.'\n",
    "mdp_loc_BL = 'MDPs/'\n",
    "ILs_itp = 'ITP/MC3_KC2_DP_DT/_LI5_LI2_LI10_BMHB.itp'\n",
    "\n",
    "PCG_path = '' #Define path to PCG/TS2CG instalation\n",
    "\n",
    "RNA = 'PDBs/1000_RNA.pdb'\n",
    "RNA_itp = 'ITP/1000_RNA_10-to-2.itp'\n",
    "\n",
    "    \n",
    "itpDir   = \"ITP/\"\n",
    "IL_itp   = 'ITP/MC3_KC2_DP_DT_LI5_LI2_LI10_BMHB.itp'\n",
    "Sterols  = \"ITP/martini_v3.0_sterols_v1.0.itp\"    \n",
    "ffbonded = \"ITP/martini_v3.0_ffbonded.itp\""
   ]
  },
  {
   "cell_type": "markdown",
   "metadata": {},
   "source": [
    "####  functions"
   ]
  },
  {
   "cell_type": "code",
   "execution_count": null,
   "metadata": {},
   "outputs": [],
   "source": [
    "def get_radius (x,y,z):\n",
    "    # Calculate the centroid of the cylinder (center axis)\n",
    "    centroid_x = np.mean(x)\n",
    "    centroid_y = np.mean(y)\n",
    "    centroid_z = np.mean(z)\n",
    "\n",
    "    # Calculate the distances from the centroid to each point\n",
    "    distances = np.sqrt((x - centroid_x)**2 + (y - centroid_y)**2 + (z - centroid_z)**2)\n",
    "\n",
    "    # Find the minimum distance, which represents the internal radius of the cylinder\n",
    "    internal_radius = np.min(distances)\n",
    "\n",
    "    return internal_radius\n",
    "\n",
    "def write_packmol_input(channel_radius, noW=1, noCL=1, channel_length=100):\n",
    "    f = open('solvate_channel.inp', 'w') \n",
    "    f.write(f'tolerance 3.0\\nfiletype pdb\\n\\n')\n",
    "\n",
    "    f.write(f'structure {RNA}\\n')\n",
    "    f.write(f'  number {noRNA}\\n')\n",
    "    f.write(f'  inside sphere 0. 0. 0. {(int(channel_radius))}.\\n')\n",
    "    f.write(f'end structure\\n')\n",
    "\n",
    "    f.write(f'structure PDBs/water.pdb\\n')\n",
    "    f.write(f'  number {noW}\\n')\n",
    "    f.write(f'  inside sphere 0. 0. 0. {int(channel_radius)}.\\n')\n",
    "    f.write(f'end structure\\n')\n",
    "\n",
    "    f.write(f'structure PDBs/CL.pdb\\n')\n",
    "    f.write(f'  number {noCL}\\n')\n",
    "    f.write(f'  inside sphere 0. 0. 0. {int(channel_radius)}.\\n')\n",
    "    f.write(f'end structure\\n')\n",
    "            \n",
    "    f.write('output solvate_channel_rna.pdb\\n')\n",
    "    f.close()\n",
    "    return\n",
    "\n",
    "def extract_lines(input_file, pattern):\n",
    "    extracted_lines = []\n",
    "    pattern_found = False\n",
    "\n",
    "    with open(input_file, 'r') as f:\n",
    "        for line in f:\n",
    "            if pattern_found:\n",
    "                extracted_lines.append(line)\n",
    "\n",
    "            if pattern in line:\n",
    "                pattern_found = True\n",
    "\n",
    "    return extracted_lines\n",
    "\n",
    "def write_topol (topol, noW, noCL):\n",
    "    '''Writes out a topol.top file with the solvate channel times 4 including the correct itp files'''\n",
    "    extracted_lines = extract_lines(topol, 'lower monolayer')\n",
    "    \n",
    "    with open('topol.top', 'w') as topout:\n",
    "        topout.write(f'#include \"{itpDir}/martini_v3.0.0.itp\"\\n#include \"{ffbonded}\"\\n#include \"{RNA_itp}\"\\n\\\n",
    "#include \"{itpDir}/martini_v3.0.0_phospholipids_v1.itp\"\\\n",
    "\\n#include \"{IL_itp}\"\\n#include \"{Sterols}\"\\n#include \"{itpDir}/martini_v3.0.0_solvents_v1.itp\"\\n\\\n",
    "#include \"{itpDir}/martini_v3.0.0_ions_v1.itp\"\\n')\n",
    "        topout.write(f'[ system ]\\n')\n",
    "        topout.write('Compartment_RNA\\n')\n",
    "        topout.write(f'\\n')\n",
    "        topout.write(f'[ molecules ]\\n')\n",
    "        for i in range(1):\n",
    "                for line in extracted_lines:\n",
    "                    topout.write(line)\n",
    "                topout.write(f'RNA    {noRNA}\\n')\n",
    "                topout.write(f'W    {noW}\\n')\n",
    "                topout.write(f'CL    {noCL}\\n')\n",
    "    return"
   ]
  },
  {
   "cell_type": "markdown",
   "metadata": {},
   "source": [
    "## Importat note: Please do not proceed if you are not familiar with Packmol."
   ]
  },
  {
   "cell_type": "markdown",
   "metadata": {},
   "source": [
    "### You can learn more about Packmol here: https://m3g.github.io/packmol/userguide.shtml#tutorials"
   ]
  },
  {
   "cell_type": "markdown",
   "metadata": {},
   "source": [
    "#### Note that you may need to tune tolerances, adjust lipid ratios, and make other parameter modifications"
   ]
  },
  {
   "cell_type": "markdown",
   "metadata": {},
   "source": [
    "### **_Step 1_**: Create water compartment"
   ]
  },
  {
   "cell_type": "markdown",
   "metadata": {},
   "source": [
    "##### write input file for pcg"
   ]
  },
  {
   "cell_type": "code",
   "execution_count": null,
   "metadata": {},
   "outputs": [],
   "source": [
    "O = open('input.str', 'w')\n",
    "\n",
    "O.write(\"[Lipids List]\\n\")\n",
    "O.write(\"Domain 0\\n\")\n",
    "O.write(f\"{IL_name_NP} 0.67  0.67 0.60\\n\") \n",
    "O.write(f\"{sterol_name} 0.33  0.33 0.60\\n\") \n",
    "O.write(\"End\\n\")\n",
    "O.write(\"\\n\")\n",
    "O.write(\"[Shape Data]\\n\")\n",
    "O.write(\"ShapeType Sphere\\n\")\n",
    "O.write(f\"Box {vesicle_radius}*2 {vesicle_radius}*2 {vesicle_radius}*2 \\n\")\n",
    "O.write(\"Density 2\\n\")\n",
    "O.write(\"WallDensity 1 1\\n\")\n",
    "O.write(\"Thickness 3.8\\n\")\n",
    "O.write(\"DL 0.2\\n\")\n",
    "O.write(f\"Radius {vesicle_radius} \\n\")\n",
    "O.write(\"End\\n\")\n",
    "O.close()"
   ]
  },
  {
   "cell_type": "markdown",
   "metadata": {},
   "source": [
    "##### Build the sphere with PCG"
   ]
  },
  {
   "cell_type": "code",
   "execution_count": null,
   "metadata": {},
   "outputs": [],
   "source": [
    "p = subprocess.Popen(f\"{PCG_path} -str input.str -Bondlength 0.2 -LLIB Martini3.LIB -defout system -function analytical_shape\"\n",
    "                    , stdin=subprocess.PIPE, shell=True, universal_newlines=True)\n",
    "p.wait()"
   ]
  },
  {
   "cell_type": "markdown",
   "metadata": {},
   "source": [
    "##### Extract the inner leaflet"
   ]
  },
  {
   "cell_type": "code",
   "execution_count": null,
   "metadata": {},
   "outputs": [],
   "source": [
    "u = md.Universe('system.gro')\n",
    "\n",
    "L = LeafletFinder(u, 'name NP N1 ROH', cutoff=15)\n",
    "\n",
    "inner_res = ' '.join(f'{i}' for i in L.groups()[1].resids)\n",
    "inner = u.select_atoms(f'resid {inner_res}')\n",
    "inner.atoms.write('Inner.pdb')"
   ]
  },
  {
   "cell_type": "markdown",
   "metadata": {},
   "source": [
    "##### solvate and add neutralizing ions using packmol"
   ]
  },
  {
   "cell_type": "code",
   "execution_count": null,
   "metadata": {},
   "outputs": [],
   "source": [
    "u = md.Universe('Inner.pdb')\n",
    "sel = u.select_atoms('name N1 NP ROH')\n",
    "sel_lipid = u.select_atoms('name N1 NP')\n",
    "R = get_radius(sel.positions[:,0], sel.positions[:,1], sel.positions[:,2]) - 1  #radius of the channel, trying to substract 2 angstorm to avoid clashing"
   ]
  },
  {
   "cell_type": "code",
   "execution_count": null,
   "metadata": {},
   "outputs": [],
   "source": [
    "u.atoms.positions = u.atoms.positions - u.atoms.center_of_mass()\n",
    "u.atoms.write('Inner_centered.pdb')"
   ]
  },
  {
   "cell_type": "code",
   "execution_count": null,
   "metadata": {},
   "outputs": [],
   "source": [
    "u = md.Universe('Inner_centered.pdb')\n",
    "sel = u.select_atoms('name N1 NP ROH')\n",
    "bb = u.select_atoms('name BB')"
   ]
  },
  {
   "cell_type": "code",
   "execution_count": null,
   "metadata": {},
   "outputs": [],
   "source": [
    "hydration = 25 #This parameter this to be fixed iteratively\n",
    "noL = sel.resids.shape[0]\n",
    "noCL = sel_lipid.resids.shape[0] - bb.resids.shape[0]\n",
    "noW = (noL*hydration) - noCL"
   ]
  },
  {
   "cell_type": "markdown",
   "metadata": {},
   "source": [
    "### The number of waters and tolerances may need to be ajusted to each case"
   ]
  },
  {
   "cell_type": "code",
   "execution_count": null,
   "metadata": {},
   "outputs": [],
   "source": [
    "noW"
   ]
  },
  {
   "cell_type": "code",
   "execution_count": null,
   "metadata": {},
   "outputs": [],
   "source": [
    "write_packmol_input(R, noW=noW, noCL=noCL)"
   ]
  },
  {
   "cell_type": "markdown",
   "metadata": {},
   "source": [
    "##### Run packmol - Only use packmol for solvate and add ions"
   ]
  },
  {
   "cell_type": "code",
   "execution_count": null,
   "metadata": {
    "scrolled": true
   },
   "outputs": [],
   "source": [
    "!/projects/DAMM/packmol-20.14.3/packmol < solvate_channel.inp"
   ]
  },
  {
   "cell_type": "code",
   "execution_count": null,
   "metadata": {},
   "outputs": [],
   "source": [
    "## Join membrane and Water core\n",
    "u1 = md.Universe(\"Inner_centered.pdb\")\n",
    "u2 = md.Universe(\"solvate_channel_rna.pdb\")\n",
    "\n",
    "u = md.Merge(u1.atoms, u2.atoms)\n",
    "u.atoms.write(\"combined.pdb\")"
   ]
  },
  {
   "cell_type": "markdown",
   "metadata": {},
   "source": [
    "##### Create box"
   ]
  },
  {
   "cell_type": "code",
   "execution_count": null,
   "metadata": {
    "scrolled": true
   },
   "outputs": [],
   "source": [
    "os.system('gmx editconf -f combined.pdb -o combined.gro -box 70 70 70') "
   ]
  },
  {
   "cell_type": "markdown",
   "metadata": {},
   "source": [
    "##### Write topol.top"
   ]
  },
  {
   "cell_type": "code",
   "execution_count": null,
   "metadata": {},
   "outputs": [],
   "source": [
    "write_topol('system.top', noW, noCL)"
   ]
  },
  {
   "cell_type": "markdown",
   "metadata": {},
   "source": [
    "## Important note: Please do not proceed if you are not familiar with GROMACS."
   ]
  },
  {
   "cell_type": "markdown",
   "metadata": {},
   "source": [
    "### You can learn more about GROMACS here: http://www.mdtutorials.com/gmx/"
   ]
  },
  {
   "cell_type": "markdown",
   "metadata": {},
   "source": [
    "#### Note that you may need to tune some .mdp parameters based on the GROMACS version being used."
   ]
  },
  {
   "cell_type": "markdown",
   "metadata": {},
   "source": [
    "### **_Step 2_**: Min and relax"
   ]
  },
  {
   "cell_type": "code",
   "execution_count": null,
   "metadata": {
    "scrolled": true
   },
   "outputs": [],
   "source": [
    "os.system(f\"gmx grompp -f {mdp_loc_BL}/min_scp.mdp -c combined.gro -p topol.top -o m.tpr -maxwarn 1\")"
   ]
  },
  {
   "cell_type": "code",
   "execution_count": null,
   "metadata": {},
   "outputs": [],
   "source": [
    "os.system('gmx mdrun -v -deffnm m -ntomp 5 -ntmpi 2')"
   ]
  },
  {
   "cell_type": "code",
   "execution_count": null,
   "metadata": {},
   "outputs": [],
   "source": [
    "### Create the index file\n",
    "gro = 'm.gro'\n",
    "u = md.Universe(gro)\n",
    "lipidsagg=u.select_atoms(f'resname {IL_name_N1} {IL_name_NP} MC3H LI2H SITO CHOL A')\n",
    "solventagg=u.select_atoms(f'not resname {sterol_name} LI2H MC3H SITO CHOL A')\n",
    "lipidsagg.write(\"index.ndx\", mode=\"w\", name= 'Particle')\n",
    "solventagg.write(\"index.ndx\", mode=\"a\", name= 'Solvent')\n",
    "u.atoms.write(\"index.ndx\", mode=\"a\", name= 'System')"
   ]
  },
  {
   "cell_type": "markdown",
   "metadata": {},
   "source": [
    "### **_Step 3_**: Make whole"
   ]
  },
  {
   "cell_type": "code",
   "execution_count": null,
   "metadata": {},
   "outputs": [],
   "source": [
    "os.system(\"mdvwhole -f m.tpr -x r.gro -o r_whole.gro -wa True -mol True\")"
   ]
  },
  {
   "cell_type": "code",
   "execution_count": null,
   "metadata": {},
   "outputs": [],
   "source": []
  }
 ],
 "metadata": {
  "kernelspec": {
   "display_name": "Python 3 (ipykernel)",
   "language": "python",
   "name": "python3"
  },
  "language_info": {
   "codemirror_mode": {
    "name": "ipython",
    "version": 3
   },
   "file_extension": ".py",
   "mimetype": "text/x-python",
   "name": "python",
   "nbconvert_exporter": "python",
   "pygments_lexer": "ipython3",
   "version": "3.11.2"
  }
 },
 "nbformat": 4,
 "nbformat_minor": 4
}
