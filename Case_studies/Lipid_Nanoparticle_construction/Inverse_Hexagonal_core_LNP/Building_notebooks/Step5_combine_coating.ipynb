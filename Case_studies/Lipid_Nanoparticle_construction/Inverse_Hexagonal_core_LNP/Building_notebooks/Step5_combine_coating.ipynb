{
 "cells": [
  {
   "cell_type": "code",
   "execution_count": null,
   "id": "d28275a1",
   "metadata": {},
   "outputs": [],
   "source": [
    "import numpy as np\n",
    "import MDAnalysis as md\n",
    "import os \n",
    "import re\n",
    "from itertools import groupby\n",
    "\n",
    "import warnings\n",
    "warnings.filterwarnings('ignore')"
   ]
  },
  {
   "cell_type": "markdown",
   "id": "68d410b4-92c6-4f14-aeb2-fc9de724514f",
   "metadata": {},
   "source": [
    "## Important note: Please do not proceed if you are not familiar with TS2CG."
   ]
  },
  {
   "cell_type": "markdown",
   "id": "aa54d771-9a9e-4d94-a0d5-7c03a67621b5",
   "metadata": {},
   "source": [
    "### You can learn more about TS2CG here: https://cgmartini.nl/docs/tutorials/Martini3/TS2CG/"
   ]
  },
  {
   "cell_type": "markdown",
   "id": "6d3e949d-e069-47af-b1d2-9e3bfc4c12da",
   "metadata": {},
   "source": [
    "### **_Step 1:_** Create lipid coating for hexagon core"
   ]
  },
  {
   "cell_type": "code",
   "execution_count": null,
   "id": "17a1ea22-e2c4-480d-b08d-e5c25c2860ad",
   "metadata": {},
   "outputs": [],
   "source": [
    "IL = 'MC3H'\n",
    "\n",
    "build_file = open('input.str' , 'w')\n",
    "build_file.write(f'[Lipids List]\\n')\n",
    "build_file.write(f'Domain 0\\n')\n",
    "build_file.write(f'{IL}  0.25  0.25 0.45\\n')\n",
    "build_file.write(f'DSPC  0.1  0.1 0.45\\n')\n",
    "build_file.write(f'CHOL  0.25  0.25 0.45\\n')\n",
    "build_file.write(f'End\\n')\n",
    "build_file.close()"
   ]
  },
  {
   "cell_type": "markdown",
   "id": "159cf07f",
   "metadata": {},
   "source": [
    "Make a bilayer for top and bottom instead and then a monolayer for the sizes. "
   ]
  },
  {
   "cell_type": "markdown",
   "id": "9a121773-c919-447e-bcfc-4b921eee7b7f",
   "metadata": {},
   "source": [
    "## Below commands you will run in the terminal.\n",
    "\n",
    "You will need to generate the tsi file using the script for blender avalibale on the github.\n",
    "Or you can do it manually in blender as well if you wish"
   ]
  },
  {
   "cell_type": "markdown",
   "id": "7c5fafd6",
   "metadata": {},
   "source": [
    "\n",
    "#mono 2\n",
    "\n",
    "\n",
    "plm -TSfile out_test.tsi -rescalefactor 13 13 13 -smooth -monolayer 1 -o mono_layer2\n",
    "pcg -str input.str -LLIB Martini3.LIB -defout mono2 -dts mono_layer2\n",
    "\n",
    "\n",
    "#Bilayer\n",
    "\n",
    "\n",
    "plm -TSfile out_test.tsi -rescalefactor 13 13 13 -smooth -o Bi-layer2 -bilayerThickness 2\n",
    "pcg -str input.str -LLIB Martini3.LIB -defout Bi-layer2 -dts Bi-layer2\n"
   ]
  },
  {
   "cell_type": "markdown",
   "id": "5beb7393-62c4-4681-be37-6221335e2d3b",
   "metadata": {},
   "source": [
    "### **_Step 2:_** Join hexagon core with the coating"
   ]
  },
  {
   "cell_type": "code",
   "execution_count": null,
   "id": "7f7ed0f3",
   "metadata": {},
   "outputs": [],
   "source": [
    "m2 = md.Universe('mono2.gro')\n",
    "m1 = md.Universe('Bi-layer2.gro')\n",
    "c  = md.Universe('hexagon_fake_whole.pdb')\n",
    "\n",
    "univers = [m1, m2, c]"
   ]
  },
  {
   "cell_type": "code",
   "execution_count": null,
   "id": "1eb0a191",
   "metadata": {},
   "outputs": [],
   "source": [
    "for u in univers:\n",
    "    u.atoms.positions = u.atoms.positions - u.atoms.center_of_geometry()"
   ]
  },
  {
   "cell_type": "code",
   "execution_count": null,
   "id": "90a309ff",
   "metadata": {},
   "outputs": [],
   "source": [
    "c_max = np.max(c.atoms.positions[:,2]) - 5\n",
    "c_min = np.min(c.atoms.positions[:,2]) + 5"
   ]
  },
  {
   "cell_type": "code",
   "execution_count": null,
   "id": "305cbe69",
   "metadata": {},
   "outputs": [],
   "source": [
    "c_min"
   ]
  },
  {
   "cell_type": "code",
   "execution_count": null,
   "id": "bc9a1a03",
   "metadata": {},
   "outputs": [],
   "source": [
    "l1 = ' '.join(f'{i}' for i in np.unique(m1.select_atoms(f'prop z >= {c_max}').resids))\n",
    "M1_upper = m1.select_atoms(f'resid {l1}')\n",
    "\n",
    "l2 = ' '.join(f'{i}' for i in np.unique(m1.select_atoms(f'prop z <= {c_min}').resids))\n",
    "M1_lower = m1.select_atoms(f'resid {l2}')"
   ]
  },
  {
   "cell_type": "code",
   "execution_count": null,
   "id": "b13c51e2",
   "metadata": {},
   "outputs": [],
   "source": [
    "M1_lower"
   ]
  },
  {
   "cell_type": "code",
   "execution_count": null,
   "id": "9234735b",
   "metadata": {},
   "outputs": [],
   "source": [
    "l = ' '.join(f'{i}' for i in np.unique(m2.select_atoms(f'prop z < {c_max} and prop z > {c_min}').resids))\n",
    "sides =  m2.select_atoms(f'resid {l}')"
   ]
  },
  {
   "cell_type": "code",
   "execution_count": null,
   "id": "afcd906f",
   "metadata": {},
   "outputs": [],
   "source": [
    "combined = md.Merge(M1_upper.atoms, M1_lower.atoms, sides.atoms, c.atoms)"
   ]
  },
  {
   "cell_type": "code",
   "execution_count": null,
   "id": "04274be1",
   "metadata": {},
   "outputs": [],
   "source": [
    "combined.atoms.write('coated_test.pdb')"
   ]
  },
  {
   "cell_type": "code",
   "execution_count": null,
   "id": "79258787",
   "metadata": {},
   "outputs": [],
   "source": [
    "coat = md.Merge(M1_upper.atoms, M1_lower.atoms, sides.atoms)"
   ]
  },
  {
   "cell_type": "code",
   "execution_count": null,
   "id": "3ae44c19",
   "metadata": {},
   "outputs": [],
   "source": [
    "np.unique(coat.atoms.resids).shape"
   ]
  },
  {
   "cell_type": "code",
   "execution_count": null,
   "id": "bd84a916",
   "metadata": {},
   "outputs": [],
   "source": [
    "u = md.Universe('coated_test.pdb')"
   ]
  },
  {
   "cell_type": "code",
   "execution_count": null,
   "id": "c005be1a",
   "metadata": {},
   "outputs": [],
   "source": [
    "L1P = u.select_atoms('resname MC3H and name NP').n_atoms\n",
    "CHOL = u.select_atoms('resname CHOL and name ROH').n_atoms\n",
    "DSPC = u.select_atoms('resname DSPC and name PO4').n_atoms"
   ]
  },
  {
   "cell_type": "code",
   "execution_count": null,
   "id": "4fc6acab",
   "metadata": {},
   "outputs": [],
   "source": [
    "total = L1P + CHOL + DSPC"
   ]
  },
  {
   "cell_type": "code",
   "execution_count": null,
   "id": "93b7c9dd",
   "metadata": {},
   "outputs": [],
   "source": [
    "(L1P/total)*100"
   ]
  },
  {
   "cell_type": "code",
   "execution_count": null,
   "id": "9d9a82a6",
   "metadata": {},
   "outputs": [],
   "source": [
    "(CHOL/total)*100"
   ]
  },
  {
   "cell_type": "code",
   "execution_count": null,
   "id": "1b91cb0b",
   "metadata": {},
   "outputs": [],
   "source": [
    "(DSPC/total)*100"
   ]
  },
  {
   "cell_type": "code",
   "execution_count": null,
   "id": "4729a54a",
   "metadata": {},
   "outputs": [],
   "source": [
    "np.unique(u.select_atoms('all').resnames)"
   ]
  }
 ],
 "metadata": {
  "kernelspec": {
   "display_name": "Python 3 (ipykernel)",
   "language": "python",
   "name": "python3"
  },
  "language_info": {
   "codemirror_mode": {
    "name": "ipython",
    "version": 3
   },
   "file_extension": ".py",
   "mimetype": "text/x-python",
   "name": "python",
   "nbconvert_exporter": "python",
   "pygments_lexer": "ipython3",
   "version": "3.11.2"
  }
 },
 "nbformat": 4,
 "nbformat_minor": 5
}
