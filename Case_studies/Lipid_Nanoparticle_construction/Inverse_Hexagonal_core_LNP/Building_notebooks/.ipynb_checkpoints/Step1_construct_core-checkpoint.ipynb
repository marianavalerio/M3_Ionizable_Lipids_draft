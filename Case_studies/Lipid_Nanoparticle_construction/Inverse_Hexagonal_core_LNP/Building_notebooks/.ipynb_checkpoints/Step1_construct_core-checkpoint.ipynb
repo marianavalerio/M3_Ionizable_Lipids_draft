{
 "cells": [
  {
   "cell_type": "code",
   "execution_count": null,
   "metadata": {},
   "outputs": [],
   "source": [
    "import numpy as np\n",
    "import os\n",
    "import subprocess \n",
    "import MDAnalysis as md\n",
    "from MDAnalysis.analysis.leaflet import LeafletFinder\n",
    "import re"
   ]
  },
  {
   "cell_type": "markdown",
   "metadata": {},
   "source": [
    "# Notebook for constructing inverse hexagonal phase, using 4 channels with 21nt dsPoly A RNA inside each channel\n",
    "A hydration of 3 water beads per lipid is used. The needed CL ions for neutralization is subtracted from the number of W beads for stability.\n",
    "\n",
    "The water and ions are added with packmol, so various hydration levels can be used"
   ]
  },
  {
   "cell_type": "markdown",
   "metadata": {},
   "source": [
    "### Below paths you will need to update yourself!\n",
    "\n",
    "\n",
    "In the function write_topol, you will maybe also have to check that the paths for the itp files needed is correct for when writing the top file"
   ]
  },
  {
   "cell_type": "code",
   "execution_count": null,
   "metadata": {},
   "outputs": [],
   "source": [
    "main_dir = 'path'\n",
    "mdp_loc_BL = 'MDPs/'\n",
    "ILs_itp = 'M3-Ionizable-Lipids/Collection_of_itps/ILs.itp'\n",
    "insane = \"M3-Ionizable-Lipids/Collection_of_itps/insane-ILs.py\"\n",
    "\n",
    "PCG_path = 'path/TS2CG1.1/PCG' #This is only applicable for TS2CG1.1\n",
    "PCG_path = 'TS2CG PCG' #For version 1.2\n",
    "\n",
    "LIB = \"M3-Ionizable-Lipids/Notebooks/\"\n",
    "\n",
    "RNA = 'M3-Ionizable-Lipids/Notebooks/Inverse_Hexagonal/RNA.pdb'\n",
    "RNA_itp = 'M3-Ionizable-Lipids/Notebooks/Inverse_Hexagonal/RNA.itp'"
   ]
  },
  {
   "cell_type": "markdown",
   "metadata": {},
   "source": [
    "####  functions"
   ]
  },
  {
   "cell_type": "code",
   "execution_count": null,
   "metadata": {},
   "outputs": [],
   "source": [
    "def get_radius (x,y,z):\n",
    "    # Calculate the centroid of the cylinder (center axis)\n",
    "    centroid_x = np.mean(x)\n",
    "    centroid_y = np.mean(y)\n",
    "    centroid_z = np.mean(z)\n",
    "\n",
    "    # Calculate the distances from the centroid to each point\n",
    "    distances = np.sqrt((x - centroid_x)**2 + (y - centroid_y)**2 + (z - centroid_z)**2)\n",
    "\n",
    "    # Find the minimum distance, which represents the internal radius of the cylinder\n",
    "    internal_radius = np.min(distances)\n",
    "\n",
    "    return internal_radius\n",
    "\n",
    "def write_packmol_input(channel_radius, noW=1, noCL=1, channel_length=100):\n",
    "    f = open('solvate_channel.inp', 'w') \n",
    "    f.write(f'tolerance 3.0\\nfiletype pdb\\n\\n')\n",
    "        \n",
    "    f.write(f'structure Inner_rna.pdb\\n')\n",
    "    f.write(f'  number 1\\n')\n",
    "    f.write(f'  inside cylinder 0. 0. 0. 0. 0. 1. {(int(channel_radius)*2)+5}. {int(channel_length+10)}.\\n')\n",
    "    f.write(f'end structure\\n')\n",
    "\n",
    "    f.write(f'structure water.pdb\\n')\n",
    "    f.write(f'  number {noW}\\n')\n",
    "    f.write(f'  inside cylinder 0. 0. 0. 0. 0. 1. {int(channel_radius)}. {int(channel_length)}.\\n')\n",
    "    f.write(f'end structure\\n')\n",
    "\n",
    "    f.write(f'structure CL.pdb\\n')\n",
    "    f.write(f'  number {noCL}\\n')\n",
    "    f.write(f'  inside cylinder 0. 0. 0. 0. 0. 1. {int(channel_radius)}. {int(channel_length)}.\\n')\n",
    "    f.write(f'end structure\\n')\n",
    "            \n",
    "    f.write('output solvate_channel_rna.pdb\\n')\n",
    "    f.close()\n",
    "    return\n",
    "\n",
    "def extract_lines(input_file, pattern):\n",
    "    extracted_lines = []\n",
    "    pattern_found = False\n",
    "\n",
    "    with open(input_file, 'r') as f:\n",
    "        for line in f:\n",
    "            if pattern_found:\n",
    "                extracted_lines.append(line)\n",
    "\n",
    "            if pattern in line:\n",
    "                pattern_found = True\n",
    "\n",
    "    return extracted_lines\n",
    "\n",
    "def write_topol (topol, noW, noCL):\n",
    "    '''Writes out a topol.top file with the solvate channel times 4 including the correct itp files'''\n",
    "    extracted_lines = extract_lines(topol, 'lower monolayer')\n",
    "    \n",
    "    itpDir   = \"Martini_ITPs\"\n",
    "    IL_itp   = 'M3-Ionizable-Lipids/Collection_of_itps/MC3_KC2_DP_DT_LI5_LI2_LI10.itp'\n",
    "    Sterols  = \"M3-Sterol-Parameters/martini_v3.0_sterols_v1.0.itp\"    \n",
    "    ffbonded = \"M3-Ionizable-Lipids/Collection_of_itps/martini_v3.0_ffbonded.itp\"\n",
    "    RNA      = 'M3-Ionizable-Lipids/Notebooks/Inverse_Hexagonal/RNA.itp'\n",
    "\n",
    "    with open('topol.top', 'w') as topout:\n",
    "        topout.write(f'#include \"{itpDir}/martini_v3.0.0.itp\"\\n#include \"{ffbonded}\"\\n#include \"{RNA}\"\\n\\\n",
    "#include \"{itpDir}/martini_v3.0.0_phospholipids_v1.itp\"\\\n",
    "\\n#include \"{IL_itp}\"\\n#include \"{Sterols}\"\\n#include \"{itpDir}/martini_v3.0.0_solvents_v1.itp\"\\n\\\n",
    "#include \"{itpDir}/martini_v3.0.0_ions_v1.itp\"\\n')\n",
    "        topout.write(f'[ system ]\\n')\n",
    "        topout.write('Hexagonal phase\\n')\n",
    "        topout.write(f'\\n')\n",
    "        topout.write(f'[ molecules ]\\n')\n",
    "        for i in range(4):\n",
    "                topout.write(f'RNA    1\\n')\n",
    "                for line in extracted_lines:\n",
    "                    topout.write(line)\n",
    "                topout.write(f'W    {noW}\\n')\n",
    "                topout.write(f'CL    {noCL}\\n')\n",
    "    return"
   ]
  },
  {
   "cell_type": "markdown",
   "metadata": {},
   "source": [
    "## Importat note: Please do not proceed if you are not familiar with Packmol."
   ]
  },
  {
   "cell_type": "markdown",
   "metadata": {},
   "source": [
    "### You can learn more about Packmol here: https://m3g.github.io/packmol/userguide.shtml#tutorials"
   ]
  },
  {
   "cell_type": "markdown",
   "metadata": {},
   "source": [
    "#### Note that you may need to tune tolerances, adjust lipid ratios, and make other parameter modifications"
   ]
  },
  {
   "cell_type": "markdown",
   "metadata": {},
   "source": [
    "### **_Step 1_**: Create initial channel"
   ]
  },
  {
   "cell_type": "markdown",
   "metadata": {},
   "source": [
    "##### write input file for pcg"
   ]
  },
  {
   "cell_type": "code",
   "execution_count": null,
   "metadata": {},
   "outputs": [],
   "source": [
    "O = open('input.str', 'w')\n",
    "\n",
    "O.write(\"[Lipids List]\\n\")\n",
    "O.write(\"Domain 0\\n\")\n",
    "O.write(\"LI2H 0.67  0.67 0.60\\n\")\n",
    "O.write(\"CHOL 0.33  0.33 0.60\\n\")\n",
    "O.write(\"End\\n\")\n",
    "O.write(\"\\n\")\n",
    "O.write(\"[Shape Data]\\n\")\n",
    "O.write(\"ShapeType Cylinder\\n\")\n",
    "O.write(\"Box 10 10 10\\n\")\n",
    "O.write(\"Density 2\\n\")\n",
    "O.write(\"Thickness 2\\n\")\n",
    "O.write(\"Radius 3\\n\")\n",
    "O.write(\"End\\n\")\n",
    "O.close()"
   ]
  },
  {
   "cell_type": "markdown",
   "metadata": {},
   "source": [
    "##### Build the cylinder with PCG"
   ]
  },
  {
   "cell_type": "code",
   "execution_count": null,
   "metadata": {},
   "outputs": [],
   "source": [
    "p = subprocess.Popen(f\"{PCG_path} -str input.str -Bondlength 0.2 -LLIB Martini3.LIB -defout system -function analytical_shape\"\n",
    "                    , stdin=subprocess.PIPE, shell=True, universal_newlines=True)\n",
    "p.wait()"
   ]
  },
  {
   "cell_type": "markdown",
   "metadata": {},
   "source": [
    "##### Extract the inner leaflet for continuation"
   ]
  },
  {
   "cell_type": "code",
   "execution_count": null,
   "metadata": {},
   "outputs": [],
   "source": [
    "u = md.Universe('system.gro')\n",
    "\n",
    "L = LeafletFinder(u, 'name NP N1 ROH', cutoff=15)\n",
    "\n",
    "inner_res = ' '.join(f'{i}' for i in L.groups()[1].resids)\n",
    "inner = u.select_atoms(f'resid {inner_res}')\n",
    "inner.atoms.write('Inner.pdb')"
   ]
  },
  {
   "cell_type": "markdown",
   "metadata": {},
   "source": [
    "##### solvate one channel and add neutralizing ions using packmol"
   ]
  },
  {
   "cell_type": "code",
   "execution_count": null,
   "metadata": {},
   "outputs": [],
   "source": [
    "u = md.Universe('Inner.pdb')\n",
    "sel = u.select_atoms('name N1 NP ROH')\n",
    "sel_lipid = u.select_atoms('name N1 NP')\n",
    "R = get_radius(sel.positions[:,0], sel.positions[:,1], sel.positions[:,2]) - 4 #radius of the channel, trying to substract 2 angstorm to avoid clashing"
   ]
  },
  {
   "cell_type": "markdown",
   "metadata": {},
   "source": [
    "#### Insert RNA"
   ]
  },
  {
   "cell_type": "code",
   "execution_count": null,
   "metadata": {},
   "outputs": [],
   "source": [
    "rna = md.Universe(RNA)\n",
    "rna.atoms.positions = rna.atoms.positions - rna.atoms.center_of_mass()"
   ]
  },
  {
   "cell_type": "code",
   "execution_count": null,
   "metadata": {},
   "outputs": [],
   "source": [
    "u.atoms.positions = u.atoms.positions - u.atoms.center_of_mass()\n",
    "sys_rna = md.Merge(rna.select_atoms('all'), u.select_atoms('all'))\n",
    "sys_rna.atoms.write('Inner_rna.pdb')"
   ]
  },
  {
   "cell_type": "code",
   "execution_count": null,
   "metadata": {},
   "outputs": [],
   "source": [
    "u = md.Universe('Inner_rna.pdb')"
   ]
  },
  {
   "cell_type": "code",
   "execution_count": null,
   "metadata": {},
   "outputs": [],
   "source": [
    "sel = u.select_atoms('name N1 NP ROH')\n",
    "bb = u.select_atoms('name BB')"
   ]
  },
  {
   "cell_type": "code",
   "execution_count": null,
   "metadata": {},
   "outputs": [],
   "source": [
    "hydration = 3 #water beads per lipids, hence 12 water molecules per lipid. This is based on the paper with Nadine\n",
    "noL = sel.resids.shape[0]\n",
    "noCL = sel_lipid.resids.shape[0] - bb.resids.shape[0]\n",
    "noW = (noL*hydration) - noCL"
   ]
  },
  {
   "cell_type": "code",
   "execution_count": null,
   "metadata": {},
   "outputs": [],
   "source": [
    "write_packmol_input(R, noW=noW, noCL=noCL)"
   ]
  },
  {
   "cell_type": "markdown",
   "metadata": {},
   "source": [
    "##### Run packmol - Only use packmol for solvate and add ions"
   ]
  },
  {
   "cell_type": "code",
   "execution_count": null,
   "metadata": {},
   "outputs": [],
   "source": [
    "!/projects/cp/user/user/PYTHON/packmol-20.14.2/packmol < solvate_channel.inp"
   ]
  },
  {
   "cell_type": "markdown",
   "metadata": {},
   "source": [
    "##### Dublicate the channel 4 times "
   ]
  },
  {
   "cell_type": "code",
   "execution_count": null,
   "metadata": {},
   "outputs": [],
   "source": [
    "os.system('gmx editconf -f solvate_channel_rna.pdb -box 5.2 5.2 9.3 -o channel_solvated_combined.gro -bt triclinic -c -angles 90 90 60')\n",
    "os.system('gmx genconf -f channel_solvated_combined.gro -o dublicate.gro -nbox 2 2 1 -dist 1')"
   ]
  },
  {
   "cell_type": "markdown",
   "metadata": {},
   "source": [
    "##### Write topol.top"
   ]
  },
  {
   "cell_type": "code",
   "execution_count": null,
   "metadata": {},
   "outputs": [],
   "source": [
    "write_topol('system.top', noW, noCL)"
   ]
  },
  {
   "cell_type": "markdown",
   "metadata": {},
   "source": [
    "## Important note: Please do not proceed if you are not familiar with GROMACS."
   ]
  },
  {
   "cell_type": "markdown",
   "metadata": {},
   "source": [
    "### You can learn more about GROMACS here: http://www.mdtutorials.com/gmx/"
   ]
  },
  {
   "cell_type": "markdown",
   "metadata": {},
   "source": [
    "#### Note that you may need to tune some .mdp parameters based on the GROMACS version being used."
   ]
  },
  {
   "cell_type": "markdown",
   "metadata": {},
   "source": [
    "### **_Step 2_**: Min and relax"
   ]
  },
  {
   "cell_type": "code",
   "execution_count": null,
   "metadata": {},
   "outputs": [],
   "source": [
    "p = subprocess.Popen(f\"gmx grompp -f {mdp_loc_BL}/min.mdp -c dublicate.gro -p topol.top -o m.tpr -maxwarn 1\"\n",
    "                    , stdin=subprocess.PIPE, shell=True, universal_newlines=True, stdout=subprocess.DEVNULL, stderr=subprocess.STDOUT)\n",
    "p.wait()"
   ]
  },
  {
   "cell_type": "code",
   "execution_count": null,
   "metadata": {},
   "outputs": [],
   "source": [
    "p = subprocess.Popen(f\"gmx mdrun -v -deffnm m -ntomp 5 -ntmpi 2\"\n",
    "                    , stdin=subprocess.PIPE, shell=True, universal_newlines=True, stdout=subprocess.DEVNULL, stderr=subprocess.STDOUT)\n",
    "p.wait()"
   ]
  },
  {
   "cell_type": "code",
   "execution_count": null,
   "metadata": {},
   "outputs": [],
   "source": [
    "### Create the index file\n",
    "gro = 'm.gro'\n",
    "u = md.Universe(gro)\n",
    "lipidsagg=u.select_atoms('resname MC3 LI2H CHOL A')\n",
    "solventagg=u.select_atoms('not resname LI2H CHOL A')\n",
    "lipidsagg.write(\"index.ndx\", mode=\"w\", name= 'Lipids')\n",
    "solventagg.write(\"index.ndx\", mode=\"a\", name= 'Solvent')\n",
    "u.atoms.write(\"index.ndx\", mode=\"a\", name= 'System')\n"
   ]
  },
  {
   "cell_type": "markdown",
   "metadata": {},
   "source": [
    "#####  Relax for 10 ns"
   ]
  },
  {
   "cell_type": "code",
   "execution_count": null,
   "metadata": {},
   "outputs": [],
   "source": [
    "with open('submit_pro.sh','w') as su:\n",
    "    su.write('#!/bin/bash\\n')\n",
    "    su.write('#SBATCH --job-name=\"LI2H_hexa\"\\n')\n",
    "    su.write('#SBATCH --output=job.out\\n')\n",
    "    su.write('#SBATCH --error=job.err\\n')\n",
    "    su.write('#SBATCH --time=48:0:0\\n')\n",
    "    su.write('#SBATCH -p gpu \\n')\n",
    "    su.write('#SBATCH --gres=gpu:1\\n')\n",
    "    su.write('#SBATCH -N 1\\n')\n",
    "    su.write('#SBATCH --ntasks-per-node=1\\n')\n",
    "    su.write('#SBATCH --cpus-per-task=5\\n')\n",
    "    su.write('#SBATCH --hint=nomultithread\\n')\n",
    "\n",
    "    su.write('\\n')\n",
    "    su.write('module load GROMACS\\n')\n",
    "    su.write('\\n')\n",
    "    su.write('export OMP_NUM_THREADS=5\\n')\n",
    "    su.write('\\n')\n",
    "    su.write('gmx grompp -f MDPs/rel.mdp -c m.gro -p topol.top -o r.tpr -n index.ndx -maxwarn 1\\n')\n",
    "    su.write('srun gmx mdrun -ntomp 5 -ntmpi 2 -deffnm r -maxh 47.5\\n')\n",
    "su.close()"
   ]
  },
  {
   "cell_type": "markdown",
   "metadata": {},
   "source": [
    "### **_Step 3_**: Make whole"
   ]
  },
  {
   "cell_type": "code",
   "execution_count": null,
   "metadata": {},
   "outputs": [],
   "source": [
    "os.system(\"mdvwhole -f m.tpr -x r.gro -o r_whole.gro -wa True -mol True\")"
   ]
  },
  {
   "cell_type": "code",
   "execution_count": null,
   "metadata": {},
   "outputs": [],
   "source": []
  }
 ],
 "metadata": {
  "kernelspec": {
   "display_name": "Python 3 (ipykernel)",
   "language": "python",
   "name": "python3"
  },
  "language_info": {
   "codemirror_mode": {
    "name": "ipython",
    "version": 3
   },
   "file_extension": ".py",
   "mimetype": "text/x-python",
   "name": "python",
   "nbconvert_exporter": "python",
   "pygments_lexer": "ipython3",
   "version": "3.11.2"
  }
 },
 "nbformat": 4,
 "nbformat_minor": 4
}
