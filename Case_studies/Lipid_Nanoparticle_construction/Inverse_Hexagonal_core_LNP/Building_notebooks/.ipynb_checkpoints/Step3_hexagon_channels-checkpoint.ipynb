{
 "cells": [
  {
   "cell_type": "code",
   "execution_count": null,
   "id": "72db8e7a",
   "metadata": {},
   "outputs": [],
   "source": [
    "import numpy as np\n",
    "import MDAnalysis as mda\n",
    "import mdvcontainment as mdvc\n",
    "import freud"
   ]
  },
  {
   "cell_type": "markdown",
   "id": "0de265f0-aeda-4d35-a627-b3c2456850cd",
   "metadata": {},
   "source": [
    "## Importat note: Please do not proceed if you are not familiar with GROMACS genconf."
   ]
  },
  {
   "cell_type": "markdown",
   "id": "2bf8bf28-34dd-4ff0-aa32-359552c8cc7a",
   "metadata": {},
   "source": [
    "### You can learn more about GROMACS genconf here: https://manual.gromacs.org/current/onlinehelp/gmx-genconf.html"
   ]
  },
  {
   "cell_type": "markdown",
   "id": "59534e61-e908-4a9b-901c-eab0588f93fd",
   "metadata": {},
   "source": [
    "### **_Step 1:_** Generate copies of the initial channels"
   ]
  },
  {
   "cell_type": "code",
   "execution_count": null,
   "id": "4f5084c0",
   "metadata": {},
   "outputs": [],
   "source": [
    "!gmx genconf -f whole.pdb -nbox 4 4 1 -o 4x4x1_channels.pdb"
   ]
  },
  {
   "cell_type": "code",
   "execution_count": null,
   "id": "38f228a2",
   "metadata": {},
   "outputs": [],
   "source": [
    "# Reading in the copied channels\n",
    "universe = mda.Universe('4x4x1_channels.pdb')\n",
    "selection_string = 'name W WF ION NA CL BB BB1 BB2 BB3 SC1 SC2 SC3 SC4 SC5 SC6 and not around 8 (name CA1 CB1 C3A C3B D3A D3B)'\n",
    "selection = universe.select_atoms(selection_string)"
   ]
  },
  {
   "cell_type": "code",
   "execution_count": null,
   "id": "65f2adaf",
   "metadata": {},
   "outputs": [],
   "source": [
    "# Checking if everything went alright\n",
    "containers = mdvc.Containers(selection)"
   ]
  },
  {
   "cell_type": "code",
   "execution_count": null,
   "id": "d18c7e63",
   "metadata": {},
   "outputs": [],
   "source": [
    "print(f'The children of the lipids outside are: {containers.get_children_components([-1])}')\n",
    "containers.plot() # Everything seems as expected (16 channels)"
   ]
  },
  {
   "cell_type": "markdown",
   "id": "9e92ae24",
   "metadata": {},
   "source": [
    "### **_Step 2:_** An expensive but simple way to get the hexagon\n",
    "We do not reuse any labeling we had and just create new labels. Then we select the IDs that we want and write them to disk."
   ]
  },
  {
   "cell_type": "code",
   "execution_count": null,
   "id": "a1612c5d",
   "metadata": {},
   "outputs": [],
   "source": [
    "# Get all components\n",
    "components = containers.get_components()\n",
    "# Get the lipid components by appreciating they are the outside\n",
    "lipid_components = containers.get_root_components()\n",
    "# Get the solvent components by appreciating they are not an outside\n",
    "solvent_components = sorted(set(components) - set(lipid_components))\n",
    "\n",
    "print(f'Lipid components: {lipid_components}\\nSolvent components: {solvent_components}')"
   ]
  },
  {
   "cell_type": "code",
   "execution_count": null,
   "id": "892ac6f7",
   "metadata": {},
   "outputs": [],
   "source": [
    "# Appreciate that the atomgroups are bound to the nodes in the containment graph\n",
    "lipid_atomgroups_dict = dict(zip(lipid_components, [containers.containment_graph.nodes(data=True)[component]['atoms'] for component in lipid_components]))\n",
    "solvent_atomgroups_dict = dict(zip(solvent_components, [containers.containment_graph.nodes(data=True)[component]['atoms'] for component in solvent_components]))\n",
    "\n",
    "print(f'Lipid atomgroups: {lipid_atomgroups_dict}\\nSolvent atomgroups: {solvent_atomgroups_dict}')"
   ]
  },
  {
   "cell_type": "code",
   "execution_count": null,
   "id": "9f0d46c8",
   "metadata": {},
   "outputs": [],
   "source": [
    "def query_neighbors(A, B, num_neighbors=1, exclude_ii=True):\n",
    "    \"\"\"\n",
    "    Returns the closest index A with respect to B using the universe indices.\n",
    "\n",
    "    A and B are atomgroups. Exclude_ii excludes the self contact.\n",
    "    \"\"\"\n",
    "    universe = A.universe\n",
    "    # Create the Freud AABB data structure for each solvent atomgroup\n",
    "    box = mdvc.containment.Periodic(universe.dimensions)\n",
    "    aq = freud.locality.AABBQuery(box.pbc_freud, A.positions)\n",
    "    # Query the lipids against the solvent atomgroup\n",
    "    query_results = aq.query(B.positions, dict(num_neighbors=num_neighbors, exclude_ii=exclude_ii))\n",
    "    # Return the atom indcices and not the index in the list (TODO)\n",
    "    output = np.array(query_results.toNeighborList())\n",
    "    output[:,0] = B[output[:,0]].ix\n",
    "    output[:,1] = A[output[:,1]].ix\n",
    "    return output"
   ]
  },
  {
   "cell_type": "code",
   "execution_count": null,
   "id": "9d583536",
   "metadata": {},
   "outputs": [],
   "source": [
    "# Get the closest solvent index for every lipid atom.\n",
    "contacts = query_neighbors(selection, universe.atoms-selection, exclude_ii=True)\n",
    "print(contacts)"
   ]
  },
  {
   "cell_type": "code",
   "execution_count": null,
   "id": "aceed639",
   "metadata": {},
   "outputs": [],
   "source": [
    "# Create a mapping dict which maps every solvent index to a component ID.\n",
    "ix_solventID_dict = {}\n",
    "for solvent_component in solvent_components:\n",
    "    for atom in solvent_atomgroups_dict[solvent_component]:\n",
    "        ix_solventID_dict[atom.ix] = solvent_component"
   ]
  },
  {
   "cell_type": "code",
   "execution_count": null,
   "id": "e5e6a9a5",
   "metadata": {},
   "outputs": [],
   "source": [
    "# Replace the closest solvent atom with the closest solvent component ID.\n",
    "component_contacts = contacts.copy()\n",
    "component_contacts[:,1] = np.vectorize(ix_solventID_dict.get)(component_contacts[:,1])\n",
    "#print(component_contacts)"
   ]
  },
  {
   "cell_type": "code",
   "execution_count": null,
   "id": "ff03e7ec",
   "metadata": {},
   "outputs": [],
   "source": [
    "# Map the lipid indices to a component ID\n",
    "lipidix_solventID_dict = dict(zip(component_contacts[:,0], component_contacts[:,1]))\n",
    "#lipidix_solventID_dict"
   ]
  },
  {
   "cell_type": "code",
   "execution_count": null,
   "id": "5b6603bd",
   "metadata": {},
   "outputs": [],
   "source": [
    "# Determine the dominant nearest component per residue (to make sure they are whole).\n",
    "leftovers = universe.atoms - selection"
   ]
  },
  {
   "cell_type": "code",
   "execution_count": null,
   "id": "16a7aa7f",
   "metadata": {},
   "outputs": [],
   "source": [
    "dominant_component_per_residue = {}\n",
    "for residue in leftovers.residues:\n",
    "    components = {}\n",
    "    for component in solvent_components:\n",
    "        components[component] = 0\n",
    "    for atom in residue.atoms:\n",
    "        try:\n",
    "            components[lipidix_solventID_dict[atom.ix]] += 1\n",
    "        except KeyError:\n",
    "            continue\n",
    "    # We do not want to assign a component if they are all 0.\n",
    "    if sum(components.values()) == 0:\n",
    "        continue\n",
    "    dominant_component_per_residue[residue.ix] = max(components, key=components.get)"
   ]
  },
  {
   "cell_type": "code",
   "execution_count": null,
   "id": "8725aae5",
   "metadata": {},
   "outputs": [],
   "source": [
    "# Make the label array for the complete universe\n",
    "universeix_components = np.zeros(len(universe.atoms))"
   ]
  },
  {
   "cell_type": "code",
   "execution_count": null,
   "id": "0ebfd9f0",
   "metadata": {},
   "outputs": [],
   "source": [
    "# Fill in the known components\n",
    "for component in solvent_components:\n",
    "    universeix_components[solvent_atomgroups_dict[component].ix] = component"
   ]
  },
  {
   "cell_type": "code",
   "execution_count": null,
   "id": "895b6c89",
   "metadata": {
    "tags": []
   },
   "outputs": [],
   "source": [
    "# Quick sanity check, indeed we have assigned all the solvent components now\n",
    "dict(zip(*np.unique(universeix_components, return_counts=True)))"
   ]
  },
  {
   "cell_type": "code",
   "execution_count": null,
   "id": "ed57cb14",
   "metadata": {},
   "outputs": [],
   "source": [
    "# Add all the non solvent label based on their closest dominant residue component per residue.\n",
    "for residue in leftovers.residues:\n",
    "    universeix_components[residue.atoms.ix] = dominant_component_per_residue[residue.ix]"
   ]
  },
  {
   "cell_type": "code",
   "execution_count": null,
   "id": "79db9fea",
   "metadata": {
    "tags": []
   },
   "outputs": [],
   "source": [
    "# Quick sanity check, indeed we have assigned all the non solvent components now.\n",
    "dict(zip(*np.unique(universeix_components, return_counts=True)))"
   ]
  },
  {
   "cell_type": "code",
   "execution_count": null,
   "id": "94f91c88",
   "metadata": {},
   "outputs": [],
   "source": [
    "# We can now write this as a labeling array which can be used by mdvwhole\n",
    "universeix_components = np.array([universeix_components], dtype=int) # it expects an array for every frame\n",
    "np.save('clusters.npy', universeix_components)"
   ]
  },
  {
   "cell_type": "code",
   "execution_count": null,
   "id": "6f4ac8df",
   "metadata": {},
   "outputs": [],
   "source": [
    "# Write the labeled universe as a PDB\n",
    "universe.add_TopologyAttr('tempfactors')\n",
    "universe.atoms.tempfactors = universeix_components[0]\n",
    "universe.atoms.write('components.pdb')"
   ]
  },
  {
   "cell_type": "code",
   "execution_count": null,
   "id": "2077f49c",
   "metadata": {},
   "outputs": [],
   "source": [
    "universe.atoms.tempfactors"
   ]
  },
  {
   "cell_type": "markdown",
   "id": "1265d949",
   "metadata": {},
   "source": [
    "### **_Step 3:_** Select the channels that you want in VMD using the beta field and write the PDB"
   ]
  },
  {
   "cell_type": "markdown",
   "id": "a381ff49-b826-430f-af77-d3d481bae79d",
   "metadata": {},
   "source": [
    "Load in the components.pdb into VMD or Chimera or similar.\n",
    "Color the channels according to beta value\n",
    "Then you can make a selection of the correct channels by selection via beta value\n",
    "\n",
    "Then save the selection as Hexagon.pdb"
   ]
  },
  {
   "cell_type": "code",
   "execution_count": null,
   "id": "757bea9c-0dad-4c9a-a52a-82b80d08bebd",
   "metadata": {},
   "outputs": [],
   "source": []
  }
 ],
 "metadata": {
  "kernelspec": {
   "display_name": "Python 3 (ipykernel)",
   "language": "python",
   "name": "python3"
  },
  "language_info": {
   "codemirror_mode": {
    "name": "ipython",
    "version": 3
   },
   "file_extension": ".py",
   "mimetype": "text/x-python",
   "name": "python",
   "nbconvert_exporter": "python",
   "pygments_lexer": "ipython3",
   "version": "3.11.2"
  }
 },
 "nbformat": 4,
 "nbformat_minor": 5
}
