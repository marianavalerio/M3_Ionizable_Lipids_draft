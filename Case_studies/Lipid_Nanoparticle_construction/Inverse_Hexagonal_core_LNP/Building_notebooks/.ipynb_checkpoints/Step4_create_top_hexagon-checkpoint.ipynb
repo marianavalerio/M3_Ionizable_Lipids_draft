{
 "cells": [
  {
   "cell_type": "code",
   "execution_count": null,
   "id": "82e528c6",
   "metadata": {},
   "outputs": [],
   "source": [
    "import MDAnalysis as mda\n",
    "import numpy as np\n",
    "import re\n",
    "from vermouth.forcefield import ForceField\n",
    "from vermouth.gmx.itp_read import read_itp\n",
    "import networkx as nx"
   ]
  },
  {
   "cell_type": "markdown",
   "id": "db1f5c4a-ed46-4b69-9b80-c944aabb8d49",
   "metadata": {},
   "source": [
    "### **_Step 1:_** Generate topology"
   ]
  },
  {
   "cell_type": "code",
   "execution_count": null,
   "id": "4aeff89e",
   "metadata": {},
   "outputs": [],
   "source": [
    "def itp_to_forcefield(itp):\n",
    "    \"\"\"\n",
    "    Returns a forcefield with all the molecule in the itp added.\n",
    "\n",
    "    The itp should specify the path to the ITP file.\n",
    "    \"\"\"\n",
    "    path = itp\n",
    "    with open(path, 'r') as f:\n",
    "        lines = f.readlines()\n",
    "    forcefield = ForceField(name='custom')\n",
    "    read_itp(lines, forcefield)\n",
    "    return forcefield"
   ]
  },
  {
   "cell_type": "code",
   "execution_count": null,
   "id": "a743045c",
   "metadata": {
    "scrolled": true
   },
   "outputs": [],
   "source": [
    "# Import the itps which are sub dependencies\n",
    "ff_rna = itp_to_forcefield('ITP/RNA.itp')\n",
    "ff_lipids = itp_to_forcefield('ITP/martini_v3.0.0_phospholipids_v1.itp')\n",
    "ff_lisbeth = itp_to_forcefield('ITP/MC3_KC2_DP_DT_LI5_LI2_LI10_BMHB.itp')\n",
    "ff_sterols = itp_to_forcefield('ITP/martini_v3.0_sterols_v1.0.itp')\n",
    "ff_solvents = itp_to_forcefield('ITP/martini_v3.0.0_solvents_v1_BMHB.itp')\n",
    "ff_ions = itp_to_forcefield('ITP/martini_v3.0.0_ions_v1.itp')\n",
    "# Combine all the blocks in one big dictionary (a block is a molecule in our case)\n",
    "all_blocks = {}\n",
    "for forcefield in [ff_rna, ff_lipids, ff_lisbeth, ff_sterols, ff_solvents, ff_ions]:\n",
    "    for name, block in forcefield.blocks.items():\n",
    "        if name in all_blocks.keys():\n",
    "            print(f'A double definition was found for {name}, this often results in issues!')\n",
    "        all_blocks[name] = block\n",
    "#all_blocks['RNA'].nodes(data=True)"
   ]
  },
  {
   "cell_type": "code",
   "execution_count": null,
   "id": "bbe2a8ca",
   "metadata": {},
   "outputs": [],
   "source": [
    "molecule_identifiers = {}\n",
    "for molecule in all_blocks.keys():\n",
    "    molecule_identifiers[molecule] = []\n",
    "    for key, values in all_blocks[molecule].nodes(data=True):\n",
    "        molecule_identifiers[molecule].append((values['resname'], values['atomname']))\n",
    "#molecule_identifiers"
   ]
  },
  {
   "cell_type": "code",
   "execution_count": null,
   "id": "88e1cc25",
   "metadata": {},
   "outputs": [],
   "source": [
    "# Read in the GRO file\n",
    "universe = mda.Universe('Hexagon.pdb') ## This pdb you generate from step3, using VMd or similar tool, to manually select the desired core"
   ]
  },
  {
   "cell_type": "code",
   "execution_count": null,
   "id": "1bd3f04b",
   "metadata": {},
   "outputs": [],
   "source": [
    "# Start matching the resnames\n",
    "# This is not a very generic approach, but it can be expanded. The issue\n",
    "#  is that there is no true solution to this problem. For certain molecules\n",
    "#  might be subgroups of other molecules, meaning it is to a certain degree\n",
    "#  an ambigous problem. Here we map small segments over long segments for \n",
    "#  simplicity, this might or might not be a problem for you system.\n",
    "#  This can largely be circumvented by making sure that all resnames are\n",
    "#  unique for every molecule type.\n",
    "matches = []\n",
    "active_molecule = []\n",
    "in_RNA = False\n",
    "for residue in universe.residues:\n",
    "    # Matching by residue name if the molecule\n",
    "    #  is a residue.\n",
    "    if residue.resname in all_blocks.keys():\n",
    "        in_RNA = False\n",
    "        matches.append(residue.resname)\n",
    "    # The naming of IONS is weird as they are separated\n",
    "    #  molecules which have the same resname\n",
    "    elif residue.resname == 'ION':\n",
    "        in_RNA = False\n",
    "        matches.append(residue.atoms.names[0])\n",
    "    # The RNA or any polymer is an issue for\n",
    "    #  their residues are not molecules. Here\n",
    "    #  I wrote a basic detection for RNA. But\n",
    "    #  this might need to be changed for other\n",
    "    #  polymers. I only match by length, this\n",
    "    #  might be lazy but for now I think it \n",
    "    #  will work.\n",
    "    elif residue.resname in ['A', 'U']:\n",
    "        if in_RNA == False:\n",
    "            in_RNA = len(residue.atoms)\n",
    "        else:\n",
    "            in_RNA += len(residue.atoms)\n",
    "        if in_RNA == len(molecule_identifiers['RNA']):\n",
    "            in_RNA = False\n",
    "            matches.append('RNA')\n",
    "    else:\n",
    "        in_RNA = False\n",
    "        print(f'UNKNOWN RESIDUE {residue.resname}')\n",
    "        break\n",
    "#print(matches)"
   ]
  },
  {
   "cell_type": "code",
   "execution_count": null,
   "id": "9a3e2a1a",
   "metadata": {},
   "outputs": [],
   "source": [
    "successive_elements = []\n",
    "previous_match = None\n",
    "counter = None\n",
    "for match in matches:\n",
    "    if match == previous_match:\n",
    "        counter += 1\n",
    "    else:\n",
    "        if previous_match is not None:\n",
    "            successive_elements.append((previous_match, counter))\n",
    "        counter = 1\n",
    "        previous_match = match\n",
    "successive_elements.append((match, counter))"
   ]
  },
  {
   "cell_type": "code",
   "execution_count": null,
   "id": "a79b9066",
   "metadata": {},
   "outputs": [],
   "source": [
    "# Quick sanity check to see if the amount of atoms\n",
    "#  based on the segment counting is indeed the equal\n",
    "#  to the total amount of atoms in the PDB/GRO.\n",
    "amount_of_atoms = 0\n",
    "for element in successive_elements:\n",
    "    amount_of_atoms += len(molecule_identifiers[element[0]])*element[1]\n",
    "all_fine = amount_of_atoms == len(universe.atoms)\n",
    "print(f'The amount of atoms based on the segments in correct: {all_fine}')"
   ]
  },
  {
   "cell_type": "code",
   "execution_count": null,
   "id": "6072de40",
   "metadata": {},
   "outputs": [],
   "source": [
    "# Writing the mol_counting file which can be copied or imported in the top.\n",
    "if all_fine:\n",
    "    with open('Hexagon_mol_counting.top', 'w') as f:\n",
    "        for successive_element in successive_elements:\n",
    "            f.write(f'{successive_element[0]}\\t{successive_element[1]}\\n')\n",
    "    print('The mol_counting.top as been written succesfully.')\n",
    "else:\n",
    "    'No ouput has been generated as the amount of atoms does not match.'"
   ]
  },
  {
   "cell_type": "code",
   "execution_count": null,
   "id": "d3672146",
   "metadata": {},
   "outputs": [],
   "source": [
    "topol = open('hexagon.top', 'w')\n",
    "            \n",
    "topol.write(f'#include \"Martini_ITPs/martini_v3.0.0.itp\"\\n')\n",
    "topol.write(f'#include \"M3-Ionizable-Lipids/Collection_of_itps/martini_v3.0_ffbonded.itp\"\\n')\n",
    "topol.write(f'#include \"M3-Ionizable-Lipids/Notebooks/Inverse_Hexagonal/RNA.itp\"\\n')\n",
    "topol.write(f'#include \"Martini_ITPs/martini_v3.0.0_phospholipids_v1.itp\"\\n')\n",
    "topol.write(f'#include \"M3-Ionizable-Lipids/Collection_of_itps/MC3_KC2_DP_DT_LI5_LI2_LI10.itp\"\\n')\n",
    "topol.write(f'#include \"M3-Sterol-Parameters/martini_v3.0_sterols_v1.0.itp\"\\n')\n",
    "topol.write(f'#include \"Martini_ITPs/martini_v3.0.0_solvents_v1.itp\"\\n')\n",
    "topol.write(f'#include \"Martini_ITPs/martini_v3.0.0_ions_v1.itp\"\\n')\n",
    "topol.write(f'[ system ]\\n')\n",
    "topol.write(f'LNP\\n')\n",
    "topol.write(f'\\n')\n",
    "topol.write(f'[ molecules ]\\n')\n",
    "topol.write(f'#include \"Hexagon_mol_counting.top\"\\n')\n",
    "topol.close()"
   ]
  },
  {
   "cell_type": "code",
   "execution_count": null,
   "id": "3ddae768",
   "metadata": {},
   "outputs": [],
   "source": []
  }
 ],
 "metadata": {
  "kernelspec": {
   "display_name": "Python 3 (ipykernel)",
   "language": "python",
   "name": "python3"
  },
  "language_info": {
   "codemirror_mode": {
    "name": "ipython",
    "version": 3
   },
   "file_extension": ".py",
   "mimetype": "text/x-python",
   "name": "python",
   "nbconvert_exporter": "python",
   "pygments_lexer": "ipython3",
   "version": "3.11.2"
  }
 },
 "nbformat": 4,
 "nbformat_minor": 5
}
