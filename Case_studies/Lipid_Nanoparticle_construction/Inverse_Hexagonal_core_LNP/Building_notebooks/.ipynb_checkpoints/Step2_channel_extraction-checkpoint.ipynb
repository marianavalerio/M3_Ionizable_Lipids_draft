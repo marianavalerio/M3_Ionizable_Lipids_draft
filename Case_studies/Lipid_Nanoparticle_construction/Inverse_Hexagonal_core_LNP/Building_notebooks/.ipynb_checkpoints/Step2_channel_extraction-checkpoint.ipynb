{
 "cells": [
  {
   "cell_type": "markdown",
   "id": "26f87f56",
   "metadata": {},
   "source": [
    "# Obtain the whole channels using the waters and projecting outwards."
   ]
  },
  {
   "cell_type": "code",
   "execution_count": null,
   "id": "d646f5af",
   "metadata": {},
   "outputs": [],
   "source": [
    "import numpy as np\n",
    "import mdvcontainment as mdvc\n",
    "import MDAnalysis as mda\n",
    "import freud"
   ]
  },
  {
   "cell_type": "markdown",
   "id": "6516ee94-0809-42bb-94a7-393e1c508e6e",
   "metadata": {},
   "source": [
    "## Importat note: Please do not proceed if you are not familiar with MDAnalysis."
   ]
  },
  {
   "cell_type": "markdown",
   "id": "86203d00-24ee-4371-8c2f-d042d955f7c2",
   "metadata": {},
   "source": [
    "### You can learn more about MDAnalysis here: https://www.mdanalysis.org/"
   ]
  },
  {
   "cell_type": "markdown",
   "id": "a5859c40",
   "metadata": {},
   "source": [
    "### **_Step 1_**: Load the data"
   ]
  },
  {
   "cell_type": "code",
   "execution_count": null,
   "id": "7b8c7bc8",
   "metadata": {},
   "outputs": [],
   "source": [
    "universe = mda.Universe('r_whole.gro')\n",
    "# Some quick and dirty selection string, until I get 4 components of water sitting in the lipids (as seen in the plot below)\n",
    "selection_string = 'name W WF ION NA CL BB BB1 BB2 BB3 SC1 SC2 SC3 SC4 SC5 SC6 and not around 8 (name CA1 CB1 C3A C3B D3A D3B)'\n",
    "selection = universe.select_atoms(selection_string)\n",
    "print(len(selection))"
   ]
  },
  {
   "cell_type": "markdown",
   "id": "225963b3-3508-4252-b30d-c5a739859642",
   "metadata": {},
   "source": [
    "## Importat note: Please do not proceed if you are not familiar with mdvcontainment."
   ]
  },
  {
   "cell_type": "markdown",
   "id": "f76cf2b8-d9dd-4c61-8530-70764c4173a4",
   "metadata": {},
   "source": [
    "### You can learn more about mdvcontainment here: https://github.com/BartBruininks/mdvcontainment"
   ]
  },
  {
   "cell_type": "markdown",
   "id": "458dca98-19a1-4ec5-a71d-9fad8d0a43bf",
   "metadata": {},
   "source": [
    "### **_Step 2_**: Create containers (make sure you have 4 channels)"
   ]
  },
  {
   "cell_type": "code",
   "execution_count": null,
   "id": "4b969206",
   "metadata": {},
   "outputs": [],
   "source": [
    "containers = mdvc.Containers(selection, resolution=0.5, blur_amount=1)"
   ]
  },
  {
   "cell_type": "code",
   "execution_count": null,
   "id": "44d4cad5",
   "metadata": {},
   "outputs": [],
   "source": [
    "containers.plot()"
   ]
  },
  {
   "cell_type": "markdown",
   "id": "81ede03c",
   "metadata": {},
   "source": [
    "## Group all residues by their dominantly closest solvent component"
   ]
  },
  {
   "cell_type": "code",
   "execution_count": null,
   "id": "69cc1574",
   "metadata": {},
   "outputs": [],
   "source": [
    "# Get all components\n",
    "components = containers.get_components()\n",
    "# Get the lipid components by appreciating they are the outside\n",
    "lipid_components = containers.get_root_components()\n",
    "# Get the solvent components by appreciating they are not an outside\n",
    "solvent_components = sorted(set(components) - set(lipid_components))\n",
    "\n",
    "print(f'Lipid components: {lipid_components}\\nSolvent components: {solvent_components}')"
   ]
  },
  {
   "cell_type": "code",
   "execution_count": null,
   "id": "15fa3c84",
   "metadata": {},
   "outputs": [],
   "source": [
    "# Appreciate that the atomgroups are bound to the nodes in the containment graph\n",
    "lipid_atomgroups_dict = dict(zip(lipid_components, [containers.containment_graph.nodes(data=True)[component]['atoms'] for component in lipid_components]))\n",
    "solvent_atomgroups_dict = dict(zip(solvent_components, [containers.containment_graph.nodes(data=True)[component]['atoms'] for component in solvent_components]))\n",
    "\n",
    "print(f'Lipid atomgroups: {lipid_atomgroups_dict}\\nSolvent atomgroups: {solvent_atomgroups_dict}')"
   ]
  },
  {
   "cell_type": "code",
   "execution_count": null,
   "id": "d89db397",
   "metadata": {},
   "outputs": [],
   "source": [
    "def query_neighbors(A, B, num_neighbors=1, exclude_ii=True):\n",
    "    \"\"\"\n",
    "    Returns the closest index A with respect to B using the universe indices.\n",
    "\n",
    "    A and B are atomgroups. Exclude_ii excludes the self contact.\n",
    "    \"\"\"\n",
    "    universe = A.universe\n",
    "    # Create the Freud AABB data structure for each solvent atomgroup\n",
    "    box = mdvc.containment.Periodic(universe.dimensions)\n",
    "    aq = freud.locality.AABBQuery(box.pbc_freud, A.positions)\n",
    "    # Query the lipids against the solvent atomgroup\n",
    "    query_results = aq.query(B.positions, dict(num_neighbors=num_neighbors, exclude_ii=exclude_ii))\n",
    "    # Return the atom indcices and not the index in the list (TODO)\n",
    "    output = np.array(query_results.toNeighborList())\n",
    "    output[:,0] = B[output[:,0]].ix\n",
    "    output[:,1] = A[output[:,1]].ix\n",
    "    return output"
   ]
  },
  {
   "cell_type": "code",
   "execution_count": null,
   "id": "b5c26551",
   "metadata": {},
   "outputs": [],
   "source": [
    "# Get the closest solvent index for every lipid atom.\n",
    "contacts = query_neighbors(selection, universe.atoms-selection, exclude_ii=True)\n",
    "print(contacts)"
   ]
  },
  {
   "cell_type": "code",
   "execution_count": null,
   "id": "1e516a42",
   "metadata": {},
   "outputs": [],
   "source": [
    "# Create a mapping dict which maps every solvent index to a component ID.\n",
    "ix_solventID_dict = {}\n",
    "for solvent_component in solvent_components:\n",
    "    for atom in solvent_atomgroups_dict[solvent_component]:\n",
    "        ix_solventID_dict[atom.ix] = solvent_component"
   ]
  },
  {
   "cell_type": "code",
   "execution_count": null,
   "id": "230c9b42",
   "metadata": {},
   "outputs": [],
   "source": [
    "# Replace the closest solvent atom with the closest solvent component ID.\n",
    "component_contacts = contacts.copy()\n",
    "component_contacts[:,1] = np.vectorize(ix_solventID_dict.get)(component_contacts[:,1])\n",
    "print(component_contacts)"
   ]
  },
  {
   "cell_type": "code",
   "execution_count": null,
   "id": "153a30b2",
   "metadata": {
    "tags": []
   },
   "outputs": [],
   "source": [
    "# Map the lipid indices to a component ID\n",
    "lipidix_solventID_dict = dict(zip(component_contacts[:,0], component_contacts[:,1]))\n",
    "lipidix_solventID_dict"
   ]
  },
  {
   "cell_type": "code",
   "execution_count": null,
   "id": "e007d283",
   "metadata": {},
   "outputs": [],
   "source": [
    "# Determine the dominant nearest component per residue (to make sure they are whole).\n",
    "leftovers = universe.atoms - selection"
   ]
  },
  {
   "cell_type": "code",
   "execution_count": null,
   "id": "9f1202e3",
   "metadata": {},
   "outputs": [],
   "source": [
    "dominant_component_per_residue = {}\n",
    "for residue in leftovers.residues:\n",
    "    components = {}\n",
    "    for component in solvent_components:\n",
    "        components[component] = 0\n",
    "    for atom in residue.atoms:\n",
    "        try:\n",
    "            components[lipidix_solventID_dict[atom.ix]] += 1\n",
    "        except KeyError:\n",
    "            continue\n",
    "    # We do not want to assign a component if they are all 0.\n",
    "    if sum(components.values()) == 0:\n",
    "        continue\n",
    "    dominant_component_per_residue[residue.ix] = max(components, key=components.get)"
   ]
  },
  {
   "cell_type": "code",
   "execution_count": null,
   "id": "77f0537d",
   "metadata": {},
   "outputs": [],
   "source": [
    "# Make the label array for the complete universe\n",
    "universeix_components = np.zeros(len(universe.atoms))"
   ]
  },
  {
   "cell_type": "code",
   "execution_count": null,
   "id": "e66acdc8",
   "metadata": {},
   "outputs": [],
   "source": [
    "# Fill in the known components\n",
    "for component in solvent_components:\n",
    "    universeix_components[solvent_atomgroups_dict[component].ix] = component"
   ]
  },
  {
   "cell_type": "code",
   "execution_count": null,
   "id": "acb75df9",
   "metadata": {},
   "outputs": [],
   "source": [
    "# Quick sanity check, indeed we have assigned all the solvent components now\n",
    "dict(zip(*np.unique(universeix_components, return_counts=True)))"
   ]
  },
  {
   "cell_type": "code",
   "execution_count": null,
   "id": "801960ed",
   "metadata": {},
   "outputs": [],
   "source": [
    "# Add all the non solvent label based on their closest dominant residue component per residue.\n",
    "for residue in leftovers.residues:\n",
    "    universeix_components[residue.atoms.ix] = dominant_component_per_residue[residue.ix]"
   ]
  },
  {
   "cell_type": "code",
   "execution_count": null,
   "id": "d5fa090f",
   "metadata": {},
   "outputs": [],
   "source": [
    "# Quick sanity check, indeed we have assigned all the non solvent components now.\n",
    "dict(zip(*np.unique(universeix_components, return_counts=True)))"
   ]
  },
  {
   "cell_type": "code",
   "execution_count": null,
   "id": "1496e09d",
   "metadata": {},
   "outputs": [],
   "source": [
    "# We can now write this as a labeling array which can be used by mdvwhole\n",
    "universeix_components = np.array([universeix_components], dtype=int) # it expects an array for every frame\n",
    "np.save('clusters.npy', universeix_components)"
   ]
  },
  {
   "cell_type": "code",
   "execution_count": null,
   "id": "d9f4cdbc",
   "metadata": {},
   "outputs": [],
   "source": [
    "# Write the labeled universe as a PDB\n",
    "universe.add_TopologyAttr('tempfactors')\n",
    "universe.atoms.tempfactors = universeix_components[0]\n",
    "universe.atoms.write('components.pdb')"
   ]
  },
  {
   "cell_type": "code",
   "execution_count": null,
   "id": "6b219638",
   "metadata": {},
   "outputs": [],
   "source": [
    "universe.atoms.tempfactors"
   ]
  },
  {
   "cell_type": "code",
   "execution_count": null,
   "id": "f659f8aa",
   "metadata": {},
   "outputs": [],
   "source": [
    "#mdvwhole -f r_whole.gro -x r_whole.gro -clus clusters.npy -wa True -o whole.pdb"
   ]
  },
  {
   "cell_type": "code",
   "execution_count": null,
   "id": "614a71f6",
   "metadata": {},
   "outputs": [],
   "source": []
  }
 ],
 "metadata": {
  "kernelspec": {
   "display_name": "Python 3 (ipykernel)",
   "language": "python",
   "name": "python3"
  },
  "language_info": {
   "codemirror_mode": {
    "name": "ipython",
    "version": 3
   },
   "file_extension": ".py",
   "mimetype": "text/x-python",
   "name": "python",
   "nbconvert_exporter": "python",
   "pygments_lexer": "ipython3",
   "version": "3.11.2"
  }
 },
 "nbformat": 4,
 "nbformat_minor": 5
}
