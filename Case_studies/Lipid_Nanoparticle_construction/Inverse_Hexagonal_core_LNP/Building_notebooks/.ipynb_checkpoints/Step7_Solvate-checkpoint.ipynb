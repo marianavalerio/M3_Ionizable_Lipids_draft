{
 "cells": [
  {
   "cell_type": "code",
   "execution_count": null,
   "id": "ea4c5fc7",
   "metadata": {},
   "outputs": [],
   "source": [
    "import numpy as np\n",
    "import os\n",
    "import MDAnalysis as md\n",
    "from lmod_env import module\n",
    "module('load','GROMACS/2021-fosscuda-2019a-PLUMED-2.7.1-Python-3.7.2')\n",
    "import subprocess"
   ]
  },
  {
   "cell_type": "code",
   "execution_count": null,
   "id": "d200a8ec",
   "metadata": {},
   "outputs": [],
   "source": [
    "insane = \"M3-Ionizable-Lipids/Collection_of_itps/insane-ILs.py\"\n",
    "MDP_loc = 'M3-Ionizable-Lipids/Notebooks/Inverse_Hexagonal/MDPs'"
   ]
  },
  {
   "cell_type": "markdown",
   "id": "5b7e5563-d9cf-4e98-9c59-8a39e9a1cdec",
   "metadata": {},
   "source": [
    "### **_Step 1:_** Solvate system"
   ]
  },
  {
   "cell_type": "code",
   "execution_count": null,
   "id": "e2459b25",
   "metadata": {},
   "outputs": [],
   "source": [
    "os.system(f'python2 {insane} -f hexagon_coat_m.gro -o hexagon_coat_solv.gro -d 7 -sol WN -excl 1 -pbc cubic')"
   ]
  },
  {
   "cell_type": "code",
   "execution_count": null,
   "id": "4f3e0921",
   "metadata": {},
   "outputs": [],
   "source": [
    "u = md.Universe('hexagon_coat_solv.gro')\n",
    "no_w = u.select_atoms('resname WN').resids.shape[0]\n",
    "\n",
    "Waternumber = int( no_w/ 4 )\n",
    "\n",
    "\n",
    "### Create the index file\n",
    "gro = 'hexagon_coat_solv.gro'\n",
    "u = md.Universe(gro)\n",
    "lipidsagg=u.select_atoms('all and not name NA CL W')\n",
    "solventagg=u.select_atoms('name WN')\n",
    "lipidsagg.write(\"wat.ndx\", mode=\"w\", name= 'Particle')\n",
    "solventagg.write(\"wat.ndx\", mode=\"a\", name= 'WN')\n",
    "u.atoms.write(\"wat.ndx\", mode=\"a\", name= 'System')"
   ]
  },
  {
   "cell_type": "markdown",
   "id": "e29f5ddc-ab0a-4183-9616-b605b24f2563",
   "metadata": {
    "jp-MarkdownHeadingCollapsed": true
   },
   "source": [
    "### **_Step 2:_** Generate new topology in \"Step7.5_create_top_hexagon.ipynb\""
   ]
  },
  {
   "cell_type": "markdown",
   "id": "573d6fb2-f4a4-4765-b12a-03c2ee45b8a7",
   "metadata": {},
   "source": [
    "### Run step7.5 notebook\n",
    "\n",
    "Remember to move the WN line from the mol counting top file to the main hexagon_coat_solv.top file"
   ]
  },
  {
   "cell_type": "markdown",
   "id": "9b2aef74-859e-4d8e-be38-7d5a96c4fefc",
   "metadata": {},
   "source": [
    "### **_Step 3:_** Neutralize, minimize and equilibrate system"
   ]
  },
  {
   "cell_type": "code",
   "execution_count": null,
   "id": "95fce07f",
   "metadata": {
    "tags": []
   },
   "outputs": [],
   "source": [
    "### Neutralize\n",
    "subprocess.call(f'gmx grompp -f {MDP_loc}/min.mdp -c hexagon_coat_solv.gro -p hexagon_coat_solv.top -o memion.tpr -maxwarn 1'\n",
    "                 , shell=True)"
   ]
  },
  {
   "cell_type": "code",
   "execution_count": null,
   "id": "bd65576a",
   "metadata": {
    "tags": []
   },
   "outputs": [],
   "source": [
    "#### NB ! Had to include the WN line under moelcules and remove it from the included top file\n",
    "\n",
    "p = subprocess.Popen(\"gmx genion -s memion.tpr -o memion.gro -p hexagon_coat_solv.top -pname NA -pq +1 -nname CL -nq -1 -neutral -n wat.ndx\"\n",
    "                         , stdin=subprocess.PIPE, shell=True, universal_newlines=True)\n",
    "p.communicate('WN')\n",
    "p.wait()"
   ]
  },
  {
   "cell_type": "code",
   "execution_count": null,
   "id": "cad2db46",
   "metadata": {
    "tags": []
   },
   "outputs": [],
   "source": [
    "### add 150mM NaCl\n",
    "naclNUM = int((0.15 * Waternumber*4)/55.5)\n",
    "subprocess.call(f'gmx grompp -f {MDP_loc}/min.mdp -c memion.gro -p hexagon_coat_solv.top -o memion_2.tpr -maxwarn 4', shell=True)"
   ]
  },
  {
   "cell_type": "code",
   "execution_count": null,
   "id": "5af30dc8",
   "metadata": {
    "tags": []
   },
   "outputs": [],
   "source": [
    "p = subprocess.Popen(f\"echo '14' | gmx genion -s memion_2.tpr -o memion_2.gro -p hexagon_coat_solv.top -pname NA -pq +1 -nname CL -nq -1 -np {naclNUM} -nn {naclNUM}\"\n",
    ", stdin=subprocess.PIPE, shell=True, universal_newlines=True)\n",
    "p.wait()"
   ]
  },
  {
   "cell_type": "code",
   "execution_count": null,
   "id": "7ef2af77",
   "metadata": {
    "tags": []
   },
   "outputs": [],
   "source": [
    "subprocess.call(f'gmx grompp -f {MDP_loc}/min.mdp -c memion_2.gro -p hexagon_coat_solv.top -o m.tpr -maxwarn 4', shell=True)"
   ]
  },
  {
   "cell_type": "code",
   "execution_count": null,
   "id": "328bd297",
   "metadata": {},
   "outputs": [],
   "source": [
    "### Create the index file\n",
    "gro = 'm.gro'\n",
    "u = md.Universe(gro)\n",
    "lipidsagg=u.select_atoms('all and not name NA CL W WN')\n",
    "solventagg=u.select_atoms('name W WN NA CL')\n",
    "lipidsagg.write(\"index.ndx\", mode=\"w\", name= 'Particle')\n",
    "solventagg.write(\"index.ndx\", mode=\"a\", name= 'Solvent')\n",
    "u.atoms.write(\"index.ndx\", mode=\"a\", name= 'System')"
   ]
  },
  {
   "cell_type": "code",
   "execution_count": null,
   "id": "076a78b3",
   "metadata": {
    "tags": []
   },
   "outputs": [],
   "source": [
    "subprocess.call(f'gmx grompp -f {MDP_loc}/rel1.mdp -c m.gro -p hexagon_coat_solv.top -o r1.tpr -n index.ndx -maxwarn 4', shell=True)"
   ]
  },
  {
   "cell_type": "code",
   "execution_count": null,
   "id": "221e9a34",
   "metadata": {
    "tags": []
   },
   "outputs": [],
   "source": [
    "subprocess.call(f'gmx grompp -f {MDP_loc}/rel2.mdp -c r1.gro -p hexagon_coat_solv.top -o r2.tpr -n index.ndx -maxwarn 4', shell=True)"
   ]
  },
  {
   "cell_type": "code",
   "execution_count": null,
   "id": "ee278c73",
   "metadata": {
    "tags": []
   },
   "outputs": [],
   "source": [
    "subprocess.call(f'gmx grompp -f {MDP_loc}/rel3.mdp -c r2.gro -p hexagon_coat_solv.top -o r3.tpr -n index.ndx -maxwarn 4', shell=True)"
   ]
  },
  {
   "cell_type": "code",
   "execution_count": null,
   "id": "83752952",
   "metadata": {
    "scrolled": true,
    "tags": []
   },
   "outputs": [],
   "source": [
    "subprocess.call(f'gmx grompp -f {MDP_loc}/rel4.mdp -c r3.gro -p hexagon_coat_solv.top -o r4.tpr -n index.ndx -maxwarn 4', shell=True)"
   ]
  },
  {
   "cell_type": "code",
   "execution_count": null,
   "id": "24186e92",
   "metadata": {
    "scrolled": true,
    "tags": []
   },
   "outputs": [],
   "source": [
    "subprocess.call(f'gmx grompp -f {MDP_loc}/rel5.mdp -c r4.gro -p hexagon_coat_solv.top -o r5.tpr -n index.ndx -maxwarn 4', shell=True)"
   ]
  },
  {
   "cell_type": "code",
   "execution_count": null,
   "id": "66cde318",
   "metadata": {
    "scrolled": true
   },
   "outputs": [],
   "source": [
    "subprocess.call(f'gmx grompp -f {MDP_loc}/prod.mdp -c r5.gro -p hexagon_coat_solv.top -o p.tpr -n index.ndx -maxwarn 4', shell=True)"
   ]
  },
  {
   "cell_type": "code",
   "execution_count": null,
   "id": "04a23b81",
   "metadata": {},
   "outputs": [],
   "source": []
  },
  {
   "cell_type": "code",
   "execution_count": null,
   "id": "647a2472-9426-402d-ae63-95be46978347",
   "metadata": {},
   "outputs": [],
   "source": []
  }
 ],
 "metadata": {
  "kernelspec": {
   "display_name": "Python 3 (ipykernel)",
   "language": "python",
   "name": "python3"
  },
  "language_info": {
   "codemirror_mode": {
    "name": "ipython",
    "version": 3
   },
   "file_extension": ".py",
   "mimetype": "text/x-python",
   "name": "python",
   "nbconvert_exporter": "python",
   "pygments_lexer": "ipython3",
   "version": "3.11.2"
  }
 },
 "nbformat": 4,
 "nbformat_minor": 5
}
